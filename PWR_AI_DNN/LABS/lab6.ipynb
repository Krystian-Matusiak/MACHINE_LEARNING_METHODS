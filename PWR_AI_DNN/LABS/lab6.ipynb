{
  "nbformat": 4,
  "nbformat_minor": 0,
  "metadata": {
    "colab": {
      "name": "lab6.ipynb",
      "provenance": [],
      "collapsed_sections": [],
      "toc_visible": true
    },
    "kernelspec": {
      "name": "python3",
      "display_name": "Python 3"
    },
    "accelerator": "GPU"
  },
  "cells": [
    {
      "cell_type": "markdown",
      "metadata": {
        "id": "v7ohrpn4zljk"
      },
      "source": [
        "# Wstęp\n",
        "Zadanie 6 stanowi wprowadzenie w tematykę *data augmentation*. Ze względu na złożonośc modeli głębokich, zwykle wymagają one bardzo dużych zbiorów danych do dobrego wyuczenia. Jednym ze sposobów na skalowanie ilości dostępnych danych są metody tzw. augmentacji - przekształcenia na danych które mamy, aby utworzyć nowe przykłady o znanych etykietach. Pod koniec zadania wprowadzona jest również koncepcja *skip connections*, będących istotnym elementem współczesnych architektur konwolucyjnych i nie tylko."
      ]
    },
    {
      "cell_type": "markdown",
      "metadata": {
        "id": "Db2J8maDszza"
      },
      "source": [
        "#Cel ćwiczenia\n",
        "\n",
        "Celem ćwiczenia jest zapoznanie się z\n",
        "\n",
        "*    koncepcją augmentacji danych\n",
        "*    implementacją metod augmentacji danych obrazowych w torch.transforms\n",
        "*    koncepcją augmentacji niezależnej od dziedziny\n",
        "*    modelami sieci głębokich ze skip connections"
      ]
    },
    {
      "cell_type": "markdown",
      "metadata": {
        "id": "t4fhynJbFsoj"
      },
      "source": [
        "#Augmentacja danych obrazowych\n",
        "\n",
        "W pierwszej kolejności zapoznajmy się z funkcjonalnością augmentacji danych obrazowych. W pytorch funkcjonalność ta realizowana jest przez transformacje wykonywane na obrazach przez `torchvision.transforms`.\n",
        "\n",
        "Transformacje które typowo wykorzystuje się w augmentacji to standardowe przekształcenia afiniczne obrazu - rotacje, dobicia, skalowanie. Oczywiście, pownniśmy dobierać transformacje z takich, po których rzeczywiście oczekujemy inwariancji - przekształcony obraz będziemy podawać do sieci z tą samą etykietą. Przykładowo, na zbiorze odręcznie pisanych cyfr MNIST ograniczymy zakres obrotów czy wykorzystanie odbicia w osi poziomej, jako że niechcemy pomylić 5 z 2 czy 6 z 9.\n",
        "\n",
        "Zapoznaj się z dokumentacją transforms tutaj:\n",
        "\n",
        "https://pytorch.org/vision/stable/transforms.html\n",
        "\n",
        "Kod poniżej wczytuje CIFAR 10 i pokazuje wyniki przykładowej augmentacji - losowej rotacji o kąt -30 do 30 stopni."
      ]
    },
    {
      "cell_type": "code",
      "metadata": {
        "colab": {
          "base_uri": "https://localhost:8080/",
          "height": 532
        },
        "id": "jVsqOyfLyf66",
        "outputId": "f78863b0-344e-4100-a0b4-4df6d98e37e9"
      },
      "source": [
        "import torch\n",
        "import torchvision.transforms as transforms\n",
        "from matplotlib import pyplot as plt\n",
        "\n",
        "\n",
        "transform = transforms.Compose([\n",
        "    transforms.RandomRotation(30),                        \n",
        "    transforms.ToTensor()\n",
        "])\n",
        "\n",
        "train_ds = torchvision.datasets.CIFAR10(\"cifar_root\", transform=transform, download=True)\n",
        "img, label = train_ds[0]\n",
        "\n",
        "plt.imshow(img.permute(1,2,0))\n",
        "plt.show()\n",
        "\n",
        "img, label = train_ds[0]\n",
        "\n",
        "plt.imshow(img.permute(1,2,0))\n",
        "plt.show()"
      ],
      "execution_count": null,
      "outputs": [
        {
          "output_type": "stream",
          "text": [
            "Files already downloaded and verified\n"
          ],
          "name": "stdout"
        },
        {
          "output_type": "display_data",
          "data": {
            "image/png": "[encoded data removed]",
            "text/plain": [
              "<Figure size 432x288 with 1 Axes>"
            ]
          },
          "metadata": {
            "tags": [],
            "needs_background": "light"
          }
        },
        {
          "output_type": "display_data",
          "data": {
            "image/png": "[encoded data removed]",
            "text/plain": [
              "<Figure size 432x288 with 1 Axes>"
            ]
          },
          "metadata": {
            "tags": [],
            "needs_background": "light"
          }
        }
      ]
    },
    {
      "cell_type": "markdown",
      "metadata": {
        "id": "_PhVqir8Ewhc"
      },
      "source": [
        "Widzimy tutaj kolejny potencjalny problem z augmentacjami: ze względu na konieczność utrzymania stałego kształtu wejścia, augmentacje mogą wprowadzać artefakty takie jak czarne fragmenty na krawędziach obrazu czy aliasing wynikający z niskiej rozdzielczości.\n",
        "\n",
        "Poniżej kod pomocniczy z laboratorium 3, można zastąpić go własną implementacją pętli uczącej uwzględniającej ulepszenia wykonane na laboratoriach 4 i 5. W zadaniach poniżej wystarczy porównać końcowy wynik uczenia, nie jest wymagane wyrysowywanie pełnych krzywych w tensorboard niemniej mogą one pomóc w analizie otrzymanych wyników."
      ]
    },
    {
      "cell_type": "code",
      "metadata": {
        "colab": {
          "base_uri": "https://localhost:8080/"
        },
        "id": "ZJF5ojwhhIKI",
        "outputId": "c2aa950e-c1fe-445b-adac-dfe2968ddad1"
      },
      "source": [
        "import torchvision\n",
        "import torch.nn as nn\n",
        "import torch.optim as optim\n",
        "from torch.utils.data import DataLoader\n",
        "from typing import Tuple\n",
        "from tqdm import tqdm\n",
        "\n",
        "transform = torchvision.transforms.ToTensor()\n",
        "\n",
        "train_ds = torchvision.datasets.CIFAR10(\"cifar_root\", transform=transform, download=True)\n",
        "test_ds = torchvision.datasets.CIFAR10(\"cifar_root\", transform=transform, train=False, download=True)\n",
        "\n",
        "train_dl = DataLoader(train_ds, batch_size=32, shuffle=True, pin_memory=True)\n",
        "test_dl = DataLoader(test_ds, batch_size=32, pin_memory=True)\n",
        "\n",
        "def count_correct(\n",
        "    y_pred: torch.Tensor, y_true: torch.Tensor\n",
        ") -> torch.Tensor:\n",
        "    preds = torch.argmax(y_pred, dim=1)\n",
        "    return (preds == y_true).float().sum()\n",
        "\n",
        "def validate(\n",
        "    model: nn.Module, \n",
        "    loss_fn: torch.nn.CrossEntropyLoss, \n",
        "    dataloader: DataLoader\n",
        ") -> Tuple[torch.Tensor, torch.Tensor]:\n",
        "    loss = 0\n",
        "    correct = 0\n",
        "    all = 0\n",
        "    for X_batch, y_batch in dataloader:\n",
        "        y_pred = model(X_batch.cuda())\n",
        "        all += len(y_pred)\n",
        "        loss += loss_fn(y_pred, y_batch.cuda()).sum()\n",
        "        correct += count_correct(y_pred, y_batch.cuda())\n",
        "    return loss / all, correct / all\n",
        "\n",
        "def fit(\n",
        "    model: nn.Module, optimiser: optim.Optimizer, \n",
        "    loss_fn: torch.nn.CrossEntropyLoss, train_dl: DataLoader, \n",
        "    val_dl: DataLoader, epochs: int, \n",
        "    print_metrics: str = True\n",
        "):\n",
        "  for epoch in range(epochs):\n",
        "      for X_batch, y_batch in tqdm(train_dl):\n",
        "          y_pred = model(X_batch.cuda())\n",
        "          loss = loss_fn(y_pred, y_batch.cuda())\n",
        "\n",
        "          loss.backward()\n",
        "          optimiser.step()\n",
        "          optimiser.zero_grad()\n",
        "\n",
        "      if print_metrics: \n",
        "          model.eval()\n",
        "          with torch.no_grad():\n",
        "              train_loss, train_acc = validate(\n",
        "                  model=model, loss_fn=loss_fn, dataloader=train_dl\n",
        "              ) \n",
        "              val_loss, val_acc = validate(\n",
        "                  model=model, loss_fn=loss_fn, dataloader=val_dl\n",
        "              )\n",
        "              print(\n",
        "                  f\"Epoch {epoch}: \"\n",
        "                  f\"train loss = {train_loss:.3f} (acc: {train_acc:.3f}), \"\n",
        "                  f\"validation loss = {val_loss:.3f} (acc: {val_acc:.3f})\"\n",
        "              )       "
      ],
      "execution_count": null,
      "outputs": [
        {
          "output_type": "stream",
          "text": [
            "Files already downloaded and verified\n",
            "Files already downloaded and verified\n"
          ],
          "name": "stdout"
        }
      ]
    },
    {
      "cell_type": "markdown",
      "metadata": {
        "id": "z79oc3U1vK5x"
      },
      "source": [
        "# Zadanie 1\n",
        "\n",
        "Wykorzystując klasę ThreeLayerCNN, spróbuj dobrać augmentacje danych tak aby poprawić wyniki względem jej braku na zbiorze CIFAR10."
      ]
    },
    {
      "cell_type": "code",
      "metadata": {
        "id": "sGaP3-h8gfq4"
      },
      "source": [
        "class ThreeLayerCNN(torch.nn.Module):\n",
        "  def __init__(self, channels: int, labels: int):\n",
        "    super().__init__()\n",
        "    self.model = torch.nn.Sequential()\n",
        "    self.model.add_module(\"conv_1\", \n",
        "                          torch.nn.Conv2d(3, channels, 3, padding=1))\n",
        "    self.model.add_module(\"relu_1\", torch.nn.ReLU())\n",
        "    self.model.add_module(\"max_pool_1\", torch.nn.MaxPool2d(2))\n",
        "    self.model.add_module(\"conv_2\", \n",
        "                          torch.nn.Conv2d(channels, channels, 3, padding=1))\n",
        "    self.model.add_module(\"relu_2\", torch.nn.ReLU())\n",
        "    self.model.add_module(\"max_pool_2\", torch.nn.MaxPool2d(2))\n",
        "    self.model.add_module(\"conv3\", \n",
        "                          torch.nn.Conv2d(channels, channels, 3, padding=1))\n",
        "    self.model.add_module(\"flatten\", torch.nn.Flatten())\n",
        "    self.model.add_module(\"linear\", torch.nn.Linear(8*8*channels, 10))\n",
        "  \n",
        "  def forward(self, x):\n",
        "    return self.model(x)"
      ],
      "execution_count": null,
      "outputs": []
    },
    {
      "cell_type": "markdown",
      "metadata": {
        "id": "TmcSjippSl5S"
      },
      "source": [
        "Zaprogramuj eksperyment tak, aby w pętli sprawdzać kolejne potencjalne wersje potoku przetwarzania (różniące się tutaj tylko augmentacją), a na końcu wybrać najlepszą - tak aby możliwe było powtórzenie całego eksperymentu uzasadniającego wybór! Transformacja z augmentacją ma być wywoływana tylko na danych treningowych.\n",
        "\n",
        "Spróbuj znaleźć również przykład augmentacji pogarszającej wynik w stosunku do bazowego otrzymanego bez augmentacji. Wykorzystaj uczenie na 50 epok i optymalizator Adam z domyślnymi parametrami, bez regularyzacji."
      ]
    },
    {
      "cell_type": "code",
      "metadata": {
        "id": "XX1kfmRGW_z1"
      },
      "source": [
        " # zaprojektuj eksperyment sprawdzający kilka możliwych podejść do augmentacji, wybranych z dokumentacji torchvision.transforms\n"
      ],
      "execution_count": null,
      "outputs": []
    },
    {
      "cell_type": "markdown",
      "metadata": {
        "id": "aRMDOzslUAKW"
      },
      "source": [
        "# Mixup - augmentacja ogólna\n",
        "\n",
        "Augmentacja daje nam spore możliwości w sytuacji, gdy w dziedzinie danych jesteśmy w stanie wskazać przekształcenia na kóre nasz model powinien być **inwariantny** - dla obrazków niewielkie skalowanie czy przesunięcie nie powinno zmieniać wyniku, zaś dla tekstu, podstawianie synonimów może spełniać podobną rolę. Ale w augmentacji danych możliwe jest też podejście niezależne od typu danych, wynikające z obserwacji dotyczących dynamiki uczenia sieci głębokich w ogóle. Ciekawym przykładem jest tu augmentacja Mixup:\n",
        "\n",
        "https://arxiv.org/abs/1710.09412\n",
        "\n",
        "Zasada działania mixup jest niezwykle prosta - generujemy nowe przykłady jako **kombinacje liniowe** tych istniejących w zbiorze danych i oczekujemy, że ich etykiety również będą kombinacjami liniowymi etykiet. Innymi słowy, dla pary przykładów z etykietami: $(x_1, y_1)$, $(x_2, y_2)$, możemy wygenerować przykład $(x', y')$:\n",
        "\n",
        "$x' = \\lambda x_1 + (1-\\lambda) x_2$\n",
        "\n",
        "$y' = \\lambda y_1 + (1-\\lambda) y_2$\n",
        "\n",
        "Wartość $\\lambda$ jest tutaj losowana z rozkładu Beta - animacja podana na https://en.wikipedia.org/wiki/Beta_distribution#Definitions dobrze obrazuje, jak wygląda ten rozkład dla różnych parametryzacji."
      ]
    },
    {
      "cell_type": "markdown",
      "metadata": {
        "id": "IRnbe1V6YfOY"
      },
      "source": [
        "# Zadanie 2\n",
        "\n",
        "Zmodyfikuj funkcję fit tak, aby uczyć zgodnie z podanym wyżej sformułowaniem augmentacji Mixup. Uwaga: będzie to wymagało modyfikacji funkcji kosztu!"
      ]
    },
    {
      "cell_type": "code",
      "metadata": {
        "id": "FBCXRaAsT_Xe"
      },
      "source": [
        "def fit(\n",
        "    model: nn.Module, optimiser: optim.Optimizer, \n",
        "    loss_fn: torch.nn.CrossEntropyLoss, train_dl: DataLoader, \n",
        "    val_dl: DataLoader, epochs: int, \n",
        "    print_metrics: str = True\n",
        "):\n",
        "  for epoch in range(epochs):\n",
        "      for X_batch, y_batch in tqdm(train_dl):\n",
        "\n",
        "          # zmodyfikuj implementację pętli uczącej\n",
        "\n",
        "          loss.backward()\n",
        "          optimiser.step()\n",
        "          optimiser.zero_grad()\n",
        "\n",
        "      if print_metrics: \n",
        "          model.eval()\n",
        "          with torch.no_grad():\n",
        "              train_loss, train_acc = validate(\n",
        "                  model=model, loss_fn=loss_fn, dataloader=train_dl\n",
        "              ) \n",
        "              val_loss, val_acc = validate(\n",
        "                  model=model, loss_fn=loss_fn, dataloader=val_dl\n",
        "              )\n",
        "              print(\n",
        "                  f\"Epoch {epoch}: \"\n",
        "                  f\"train loss = {train_loss:.3f} (acc: {train_acc:.3f}), \"\n",
        "                  f\"validation loss = {val_loss:.3f} (acc: {val_acc:.3f})\"\n",
        "              )"
      ],
      "execution_count": null,
      "outputs": []
    },
    {
      "cell_type": "markdown",
      "metadata": {
        "id": "bId62ojPhzkU"
      },
      "source": [
        "Sprawdź, czy uzyskuje ona przewagę nad modelem trenowanym bez augmentacji. \n",
        "\n"
      ]
    },
    {
      "cell_type": "code",
      "metadata": {
        "id": "727vLU-8h6EE"
      },
      "source": [
        "# przetestuj wyniki z wykorzystaniem zmodyfikowanego fit()"
      ],
      "execution_count": null,
      "outputs": []
    },
    {
      "cell_type": "markdown",
      "metadata": {
        "id": "D3QMNaOb9lvp"
      },
      "source": [
        "# Skrótowe połączenia\n",
        "\n",
        "W kontekście sieci konwolucyjnych warto zpoznać się jeszcze z jedną istotną koncepcją: połączenia omijające warstwy, poprzez konkatenacje ich wyniku z wynikami dalszych warstw lub dodawanie ich wyniku do wyjścia dalszej warstwy (w drugim przypadku mówimy też o połączeniach *rezydualnych*). Połączenia takie są potrzebne szczególnie przy trenowaniu sieci bardzo głębokich, zawierających dziesiątki czy nawet ponad 100 warstw, czego nie będziemy w stanie realistycznie zrealizować w czasie naszych laboratoriów. Niemniej warto zapoznać się zarówno z samą ideą, jak i ich implementacją, jako że przy pracy z architekturami *state of the art* będziemy często natykać się na takie konstrukcje.\n",
        "\n",
        "W konstrukcji sieci z połączeniamy pomijającymi warstwy i połączeniami rezydualnymi często będziemy spotykać się z powtarzalnymi *blokami* obejmującymi kilka warstw - dobrą praktyką implementacyjną jest wydzielanie takich bloków jako osobnych podklas `torch.nn.Module`. Warto też z góry zwrócić uwagę, że znane nam już `torch.nn.Sequential` nie uwzględnia połączeń innych niż sekwencyjne - czyli połączenia rezydualne i omijanie warstw nie wchodzi w grę, chyba że w obrębie wydzielonego bloku."
      ]
    },
    {
      "cell_type": "markdown",
      "metadata": {
        "id": "JxUiBYYX_lcb"
      },
      "source": [
        "# Zadanie 3\n",
        "\n",
        "Uzupełnij kod klasy SkipBlock tak, aby implementowała blok o zadanej strukturze.\n",
        "\n",
        "Struktura SkipBlock:\n",
        "\n",
        "główna sekwencja warstw\n",
        "\n",
        "*   warstwa konwolucyjna, nie zmieniająca wymiarów szerokość/wysokość, `in_channels x out_channels`, filtr 3x3\n",
        "*   aktywacja ReLU\n",
        "*   warstwa konwolucyjna, wykonująca downsampling x2 w wymiarach szerokość/wysokość, filtr 3x3\n",
        "\n",
        "warstwa poboczna (na wejściu: wejście do całego bloku, wyjście dodawane jest do wyjścia sekwencji powyżej)\n",
        "\n",
        "*    warstwa konwolucyjna, filtr 2x2\n",
        "\n",
        "**Samodzielnie dobierz niesprecyzowane parametry** tak, aby wymiary odpowiednich wyjść się zgadzały. Wyjście bloku powinno mieć `out_channels` kanałów oraz dwukrotnie zmniejszoną wysokość i szerokość w stosunku do wejścia."
      ]
    },
    {
      "cell_type": "code",
      "metadata": {
        "id": "cVJ1cGOs9lSg"
      },
      "source": [
        "class SkipBlock(torch.nn.Module)\n",
        "  def __init__(self, in_channels: int, out_channels: int):\n",
        "    # zaimplementuj konstruktor\n",
        "    \n",
        "  def forward(self,x):\n",
        "    #zaimplementuj forward\n",
        "\n",
        "\n",
        "\n",
        "class SkipBlockCNN(torch.nn.Module):\n",
        "  def __init__(self, channels: List[int], labels: int):\n",
        "    super().__init__()\n",
        "    self.model = torch.nn.Sequential()\n",
        "    self.model.add_module(\"res_1\", SkipBlock(3, channels[0]))\n",
        "    self.model.add_module(\"relu_1\", torch.nn.ReLU())\n",
        "    self.model.add_module(\"res_2\", SkipBlock(channels[0], channnels[1]))\n",
        "    self.model.add_module(\"relu_2\", torch.nn.ReLU())\n",
        "    self.model.add_module(\"res_3\", SkipBlock(channels[1], channels[2]))\n",
        "    self.model.add_module(\"relu_3\", torch.nn.ReLU())\n",
        "    self.model.add_module(\"flatten\", torch.nn.Flatten())\n",
        "    self.model.add_module(\"linear\", torch.nn.Linear(8*8*channels[2], labels))\n",
        "  \n",
        "  def forward(self, x):\n",
        "    return self.model(x)"
      ],
      "execution_count": null,
      "outputs": []
    },
    {
      "cell_type": "markdown",
      "metadata": {
        "id": "YMZNBCOmmu8I"
      },
      "source": [
        " Wyucz sieć SkipBlockCNN i porównaj jej wyniki z wcześniej uzykanymi."
      ]
    },
    {
      "cell_type": "code",
      "metadata": {
        "id": "q6r2bdnAmzob"
      },
      "source": [
        "model = SkipBlockCNN([16,32,64], labels=10)\n",
        "\n",
        "# wyucz sieć i porównaj wyniki"
      ],
      "execution_count": null,
      "outputs": []
    }
  ]
}