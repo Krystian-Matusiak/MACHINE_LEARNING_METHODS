{
  "nbformat": 4,
  "nbformat_minor": 0,
  "metadata": {
    "colab": {
      "name": "lab5.ipynb",
      "provenance": [],
      "collapsed_sections": [],
      "toc_visible": true
    },
    "kernelspec": {
      "name": "python3",
      "display_name": "Python 3"
    },
    "accelerator": "GPU",
    "widgets": {
      "application/vnd.jupyter.widget-state+json": {
        "91987d973ad04ea6b1f917bca21aa6cb": {
          "model_module": "@jupyter-widgets/controls",
          "model_name": "HBoxModel",
          "state": {
            "_view_name": "HBoxView",
            "_dom_classes": [],
            "_model_name": "HBoxModel",
            "_view_module": "@jupyter-widgets/controls",
            "_model_module_version": "1.5.0",
            "_view_count": null,
            "_view_module_version": "1.5.0",
            "box_style": "",
            "layout": "IPY_MODEL_ff56e7c1bf1e4eefbda19742d15ada3a",
            "_model_module": "@jupyter-widgets/controls",
            "children": [
              "IPY_MODEL_701d24ad4e95464685401877b3d4bfb9",
              "IPY_MODEL_b9dac33d25d641e5951f20b36fc80ef5"
            ]
          }
        },
        "ff56e7c1bf1e4eefbda19742d15ada3a": {
          "model_module": "@jupyter-widgets/base",
          "model_name": "LayoutModel",
          "state": {
            "_view_name": "LayoutView",
            "grid_template_rows": null,
            "right": null,
            "justify_content": null,
            "_view_module": "@jupyter-widgets/base",
            "overflow": null,
            "_model_module_version": "1.2.0",
            "_view_count": null,
            "flex_flow": null,
            "width": null,
            "min_width": null,
            "border": null,
            "align_items": null,
            "bottom": null,
            "_model_module": "@jupyter-widgets/base",
            "top": null,
            "grid_column": null,
            "overflow_y": null,
            "overflow_x": null,
            "grid_auto_flow": null,
            "grid_area": null,
            "grid_template_columns": null,
            "flex": null,
            "_model_name": "LayoutModel",
            "justify_items": null,
            "grid_row": null,
            "max_height": null,
            "align_content": null,
            "visibility": null,
            "align_self": null,
            "height": null,
            "min_height": null,
            "padding": null,
            "grid_auto_rows": null,
            "grid_gap": null,
            "max_width": null,
            "order": null,
            "_view_module_version": "1.2.0",
            "grid_template_areas": null,
            "object_position": null,
            "object_fit": null,
            "grid_auto_columns": null,
            "margin": null,
            "display": null,
            "left": null
          }
        },
        "701d24ad4e95464685401877b3d4bfb9": {
          "model_module": "@jupyter-widgets/controls",
          "model_name": "FloatProgressModel",
          "state": {
            "_view_name": "ProgressView",
            "style": "IPY_MODEL_7c11f289d79f45f1be7b581a3b581512",
            "_dom_classes": [],
            "description": "",
            "_model_name": "FloatProgressModel",
            "bar_style": "success",
            "max": 170498071,
            "_view_module": "@jupyter-widgets/controls",
            "_model_module_version": "1.5.0",
            "value": 170498071,
            "_view_count": null,
            "_view_module_version": "1.5.0",
            "orientation": "horizontal",
            "min": 0,
            "description_tooltip": null,
            "_model_module": "@jupyter-widgets/controls",
            "layout": "IPY_MODEL_650ebaba88514f38bc12de0635c7f1e7"
          }
        },
        "b9dac33d25d641e5951f20b36fc80ef5": {
          "model_module": "@jupyter-widgets/controls",
          "model_name": "HTMLModel",
          "state": {
            "_view_name": "HTMLView",
            "style": "IPY_MODEL_fa17f0a26a924edfb2baf48dba0ef5e6",
            "_dom_classes": [],
            "description": "",
            "_model_name": "HTMLModel",
            "placeholder": "​",
            "_view_module": "@jupyter-widgets/controls",
            "_model_module_version": "1.5.0",
            "value": " 170499072/? [00:44&lt;00:00, 3868495.91it/s]",
            "_view_count": null,
            "_view_module_version": "1.5.0",
            "description_tooltip": null,
            "_model_module": "@jupyter-widgets/controls",
            "layout": "IPY_MODEL_4998a6ab395a40d2aee73b208613c43e"
          }
        },
        "7c11f289d79f45f1be7b581a3b581512": {
          "model_module": "@jupyter-widgets/controls",
          "model_name": "ProgressStyleModel",
          "state": {
            "_view_name": "StyleView",
            "_model_name": "ProgressStyleModel",
            "description_width": "initial",
            "_view_module": "@jupyter-widgets/base",
            "_model_module_version": "1.5.0",
            "_view_count": null,
            "_view_module_version": "1.2.0",
            "bar_color": null,
            "_model_module": "@jupyter-widgets/controls"
          }
        },
        "650ebaba88514f38bc12de0635c7f1e7": {
          "model_module": "@jupyter-widgets/base",
          "model_name": "LayoutModel",
          "state": {
            "_view_name": "LayoutView",
            "grid_template_rows": null,
            "right": null,
            "justify_content": null,
            "_view_module": "@jupyter-widgets/base",
            "overflow": null,
            "_model_module_version": "1.2.0",
            "_view_count": null,
            "flex_flow": null,
            "width": null,
            "min_width": null,
            "border": null,
            "align_items": null,
            "bottom": null,
            "_model_module": "@jupyter-widgets/base",
            "top": null,
            "grid_column": null,
            "overflow_y": null,
            "overflow_x": null,
            "grid_auto_flow": null,
            "grid_area": null,
            "grid_template_columns": null,
            "flex": null,
            "_model_name": "LayoutModel",
            "justify_items": null,
            "grid_row": null,
            "max_height": null,
            "align_content": null,
            "visibility": null,
            "align_self": null,
            "height": null,
            "min_height": null,
            "padding": null,
            "grid_auto_rows": null,
            "grid_gap": null,
            "max_width": null,
            "order": null,
            "_view_module_version": "1.2.0",
            "grid_template_areas": null,
            "object_position": null,
            "object_fit": null,
            "grid_auto_columns": null,
            "margin": null,
            "display": null,
            "left": null
          }
        },
        "fa17f0a26a924edfb2baf48dba0ef5e6": {
          "model_module": "@jupyter-widgets/controls",
          "model_name": "DescriptionStyleModel",
          "state": {
            "_view_name": "StyleView",
            "_model_name": "DescriptionStyleModel",
            "description_width": "",
            "_view_module": "@jupyter-widgets/base",
            "_model_module_version": "1.5.0",
            "_view_count": null,
            "_view_module_version": "1.2.0",
            "_model_module": "@jupyter-widgets/controls"
          }
        },
        "4998a6ab395a40d2aee73b208613c43e": {
          "model_module": "@jupyter-widgets/base",
          "model_name": "LayoutModel",
          "state": {
            "_view_name": "LayoutView",
            "grid_template_rows": null,
            "right": null,
            "justify_content": null,
            "_view_module": "@jupyter-widgets/base",
            "overflow": null,
            "_model_module_version": "1.2.0",
            "_view_count": null,
            "flex_flow": null,
            "width": null,
            "min_width": null,
            "border": null,
            "align_items": null,
            "bottom": null,
            "_model_module": "@jupyter-widgets/base",
            "top": null,
            "grid_column": null,
            "overflow_y": null,
            "overflow_x": null,
            "grid_auto_flow": null,
            "grid_area": null,
            "grid_template_columns": null,
            "flex": null,
            "_model_name": "LayoutModel",
            "justify_items": null,
            "grid_row": null,
            "max_height": null,
            "align_content": null,
            "visibility": null,
            "align_self": null,
            "height": null,
            "min_height": null,
            "padding": null,
            "grid_auto_rows": null,
            "grid_gap": null,
            "max_width": null,
            "order": null,
            "_view_module_version": "1.2.0",
            "grid_template_areas": null,
            "object_position": null,
            "object_fit": null,
            "grid_auto_columns": null,
            "margin": null,
            "display": null,
            "left": null
          }
        }
      }
    }
  },
  "cells": [
    {
      "cell_type": "markdown",
      "metadata": {
        "id": "v7ohrpn4zljk"
      },
      "source": [
        "# Wstęp\n",
        "Laboratorium 5 stanowi wprowadzenie w tematykę sieci konwolucyjnych. Sieci te wykorzystują, jak sama nazwa wskazuje, operację konwolucji (splotu) co pozwala na uwzględnienie informacji o lokalnym sąsiedztwie przestrzennym w przetwarzanych danych. W przypadku obrazów, jest to sąsiedztwo pikseli w dwuwymiarowej przestrzeni obrazu.\n",
        "\n",
        "# Cel  ćwiczenia\n",
        "\n",
        "Celem ćwiczenia jest zapoznianie z:\n",
        "\n",
        "*   operacją konwolucji 2D i jej implementacją w torchu\n",
        "*   warstwami konwolucyjnymi i ich parametrami\n",
        "*   operacjami poolingu\n",
        "*   prostymi sieciami konwolucyjnymi w klasyfikacji obrazu"
      ]
    },
    {
      "cell_type": "markdown",
      "metadata": {
        "id": "JEJXcRDgQBd8"
      },
      "source": [
        "# Konwolucja 2D\n",
        "\n",
        "Najpierw wprowadzimy operację konwolucji. Konwolucja 2D przyjmuje na wejściu tensory o kształcie `(B,C,H,W)` - batch, channel, width, height. Kanały nazywamy też *mapami cech*, jako że w warstwach innych niż wejściowa są to w dalszym ciągu dwuwymiarowe \"obrazki\", ale odpowiadające już nie wprost kanałom RGB, ale pewnym cechom wydobywanym z mapy cech na wejściu przez uczące się filtry. \n",
        "\n",
        "Tensor filtrów ma wymiary `(I,O,H,W)` - liczba kanałów warstwy wejściowej, liczba kanałów warstwy wyjściowej, wysokość i szerokość filtra. Możemy pomyśleć o tym przez analogię z warstwą w pełni połączoną: tam, element tensora wag `weights[i,j]` był jedną liczbą i odpowiadał połączeniu i-tego wejścia do j-tego wyjścia. W konwolucji, `weights[i,j]`  będzie odpowiadać połączeniu i-tej mapy cech do j-tej mapy cech, będzie jednak całą macierzą, ponieważ dla każdego połączenia we-wy map cech uczymy dwuwymiarowego filtra.\n",
        "\n",
        "Dla przykładu, zaimplementujmy filtr rozmywający obraz RGB - każdy kanał z osobna. Filtr rozmywający jeden kanał definiuje `filter`, a ponieważ chcemy uzyskać połączenie tylko kanałów wejściowych do wyjściowych: R do R, G do G, B do B, a ponieważ dla każdego z tych połączeń filtr będzie taki sam, możemy po prostu wymnożyć go przez tensor `(3,3,1,1)`, utworzony z macierzy jednostkowej. W torchu taką macierz zwraca metoda `eye`."
      ]
    },
    {
      "cell_type": "code",
      "metadata": {
        "colab": {
          "base_uri": "https://localhost:8080/",
          "height": 515
        },
        "id": "jVsqOyfLyf66",
        "outputId": "939ed3ba-de1a-461c-8208-4f7af1de2396"
      },
      "source": [
        "import torch\n",
        "from matplotlib import pyplot as plt\n",
        "\n",
        "tensor = torch.rand((1,3,32,32))\n",
        "\n",
        "channel_connections = torch.eye(3)\n",
        "\n",
        "filter = torch.tensor(\n",
        "    [[0.1,0.1,0.1],\n",
        "    [0.1,0.2,0.1],\n",
        "    [0.1,0.1,0.1]]\n",
        ")\n",
        "\n",
        "blur = channel_connections.view(3,3,1,1)*filter\n",
        "\n",
        "plt.imshow(tensor[0].permute(1,2,0))\n",
        "plt.show()\n",
        "\n",
        "blurred = torch.nn.functional.conv2d(tensor,blur)\n",
        "\n",
        "plt.imshow(blurred[0].permute(1,2,0))\n",
        "plt.show()\n"
      ],
      "execution_count": null,
      "outputs": [
        {
          "output_type": "display_data",
          "data": {
            "image/png": "[encoded data removed]",
            "text/plain": [
              "<Figure size 432x288 with 1 Axes>"
            ]
          },
          "metadata": {
            "tags": [],
            "needs_background": "light"
          }
        },
        {
          "output_type": "display_data",
          "data": {
            "image/png": "[encoded data removed]",
            "text/plain": [
              "<Figure size 432x288 with 1 Axes>"
            ]
          },
          "metadata": {
            "tags": [],
            "needs_background": "light"
          }
        }
      ]
    },
    {
      "cell_type": "markdown",
      "metadata": {
        "id": "_CQzwRbAYLor"
      },
      "source": [
        "# Zadanie 1\n",
        "\n",
        "Zdefiniuj tensor 3x3x3x3 `rg_blur_to_b`.\n",
        "\n",
        "Zakładając że mamy do czynienia z obrazem RGB, konwolucja na wyjściu zwracać ma obraz RGB, gdzie \n",
        "\n",
        "* w kanale B zwracamy uśrednienie rozmytych (analogiczne jak wyżej) kanałów R, G obrazka wejściowego\n",
        "* kanały R i G na wyjściu są zerami\n"
      ]
    },
    {
      "cell_type": "code",
      "metadata": {
        "colab": {
          "base_uri": "https://localhost:8080/",
          "height": 532
        },
        "id": "dp8qp5K3BVoy",
        "outputId": "f91e1ba8-8df5-42a4-d89a-51d4ee2df17a"
      },
      "source": [
        "tensor = torch.rand((10,3,32,32))\n",
        "tensor[:,2] = -7\n",
        "\n",
        "filter = torch.tensor(\n",
        "    [[0.1,0.1,0.1],\n",
        "    [0.1,0.2,0.1],\n",
        "    [0.1,0.1,0.1]]\n",
        ")\n",
        "\n",
        "rg_blur_to_b = # stwórz tensor\n",
        "blurred = torch.nn.functional.conv2d(tensor,rg_blur_to_b)\n",
        "\n",
        "plt.imshow(tensor[0].permute(1,2,0))\n",
        "plt.show()\n",
        "\n",
        "plt.imshow(blurred[0].permute(1,2,0))\n",
        "plt.show()\n",
        "\n"
      ],
      "execution_count": null,
      "outputs": [
        {
          "output_type": "stream",
          "text": [
            "Clipping input data to the valid range for imshow with RGB data ([0..1] for floats or [0..255] for integers).\n"
          ],
          "name": "stderr"
        },
        {
          "output_type": "display_data",
          "data": {
            "image/png": "[encoded data removed]",
            "text/plain": [
              "<Figure size 432x288 with 1 Axes>"
            ]
          },
          "metadata": {
            "tags": [],
            "needs_background": "light"
          }
        },
        {
          "output_type": "display_data",
          "data": {
            "image/png": "[encoded data removed]",
            "text/plain": [
              "<Figure size 432x288 with 1 Axes>"
            ]
          },
          "metadata": {
            "tags": [],
            "needs_background": "light"
          }
        }
      ]
    },
    {
      "cell_type": "markdown",
      "metadata": {
        "id": "cSXjtzDLZMvg"
      },
      "source": [
        "# Warstwa konwolucyjna\n",
        "\n",
        "W sieci konwolucyjnej będziemy wykorzystywać operację konwolucji tak jak opisane powyżej, w której uczone są tensor filtrów i bias dodawany do tensora na wyjściu. Warstwę z uczonymi parametrami definiuje klasa:\n",
        "\n",
        "https://pytorch.org/docs/stable/generated/torch.nn.Conv2d.html\n",
        "\n",
        "Pokrótce wyjaśnijmy parametry tej klasy na przykładzie filtra 2x2.\n",
        "\n",
        "Poniższy obrazek reprezentuje lewy, górny róg mapy cech:\n",
        "\n",
        "![default.png](data:image/png;base64,iVBORw0KGgoAAAANSUhEUgAAAJcAAACXCAYAAAAYn8l5AAAAAXNSR0IArs4c6QAAAARnQU1BAACxjwv8YQUAAAAJcEhZcwAADsQAAA7EAZUrDhsAAAHOSURBVHhe7dyxCYNQGEZRIxZOINl/uuAEFoGEBEfwPptzKl/1NxfsvscyL58JAv+4tud2PsfZX/vkbu/Ou/P5DZcTFxlxkREXGXGRERcZcZERFxlxkREXGXGRERcZcZERFxlxkREXGXGRERcZcZERFxlxkREXGXGRERcZcZERFxlxkREXGSs3ZG5duTnex/kaZ11Wdwf43fVbJCMuMuIiIy4y4iIjLjLiIiMuMuIiIy4y4iIjLjLiIiMuMuIiIy4y4iIjLjLiIiMuMuIiIy4y4iIjLjLiIiMuMuIiIy4yVm7IWLkZxMoNXEhcZMRFRlxkxEVGXGTERUZcZMRFRlxkxEVGXGTERUZcZMRFRlxkxEVGXGTERUZcZMRFRlxkxEVGXGTERUZcZMRFRlxkrNyQsXIziJUbuJC4yIiLjLjIiIuMuMiIi4y4yIiLjLjIiIuMuMiIi4y4yIiLjLjIiIuMuMiIi4y4yIiLjLjIiIuMuMiIi4y4yIiLjLjIWLkhY+VmECs3cCFxkREXGXGRERcZcZERFxlxkREXGXGRERcZcZERFxlxkREXGXGRERcZcZERFxlxkREXGXGRERcZcZERFxlxkREXGXGRsXJDZJq+sW5Xh7yRLnMAAAAASUVORK5CYII=)\n",
        "\n",
        "Na czerwono zaznaczymy pierwszy krok filtra przechodzącego po obrazie, na niebiesko drugi. Kolor fioletowy oznaczać będzie, że pola obejmowane przez filtry się pokrywają. Oznaczone pola przekładają się na dwa pierwsze piksele w wyjściowej mapie cech. Filtr 2x2 przy domyślnych parametrach będzie przechodził po obrazie następująco:\n",
        "\n",
        "--------- Wejście ---------------------  Wyjście ----------\n",
        "\n",
        "![filter.png](data:image/png;base64,iVBORw0KGgoAAAANSUhEUgAAAJcAAACXCAYAAAAYn8l5AAAAAXNSR0IArs4c6QAAAARnQU1BAACxjwv8YQUAAAAJcEhZcwAADsQAAA7EAZUrDhsAAAH4SURBVHhe7dyxTQNBFEXRwdrAFRiECOiGNkxluA26IUAIXIEDSyChLcF3Njkn2h9NcqXN3t2yW34HBP7jOjwc1nOe8/d5eLe35bu79RtuTlxkxEVGXGTERUZcZMRFRlxkxEVGXGTERUZcZMRFRlxkxEVGXGTERUZcZMRFRlxkxEVGXGTERUZcZMRFRlxkxEVGXGSs3JDZdOXm5/F5vea5//oYby+n9Zrn9f04rqfP9ZpnOT6Ny/WyXvPsl73fIh1xkREXGXGRERcZcZERFxlxkREXGXGRERcZcZERFxlxkREXGXGRERcZcZERFxlxkREXGXGRERcZcZERFxlxkREXGXGRsXJDxsrNJFZu4IbERUZcZMRFRlxkxEVGXGTERUZcZMRFRlxkxEVGXGTERUZcZMRFRlxkxEVGXGTERUZcZMRFRlxkxEVGXGTERUZcZMRFxsoNmU1XbrZaX/Fuz8oNKXGRERcZcZERFxlxkREXGXGRERcZcZERFxlxkREXGXGRERcZcZERFxlxkREXGXGRERcZcZERFxlxkREXGXGRERcZcZGxckPGys0kVm7ghsRFRlxkxEVGXGTERUZcZMRFRlxkxEVGXGTERUZcZMRFRlxkxEVGXGTERUZcZMRFRlxkxEVGXGTERUZcZMRFRlxkxEXGyg2RMf4AbMlXh9TdK0AAAAAASUVORK5CYII=)\n",
        "![result.png](data:image/png;base64,iVBORw0KGgoAAAANSUhEUgAAAJcAAACXCAYAAAAYn8l5AAAAAXNSR0IArs4c6QAAAARnQU1BAACxjwv8YQUAAAAJcEhZcwAADsQAAA7EAZUrDhsAAAHsSURBVHhe7dyxTcNQGEbRR+QiEwSEUjAaozEaBYogE6SIFCTkEXyfC86p/FevuZK772k5LI8Bgb+4Ti+n9Zzn+n0d3u3t+e5h/YbNiYuMuMiIi4y4yIiLjLjIiIuMuMiIi4y4yIiLjLjIiIuMuMiIi4y4yIiLjLjIiIuMuMiIi4y4yIiLjLjIiIuMuMiIi4yVGzK7rtz8vL6t1zzPl89x//har3mW9/O43W/rNc9xOe72rt8iGXGRERcZcZERFxlxkREXGXGRERcZcZERFxlxkREXGXGRERcZcZERFxlxkREXGXGRERcZcZERFxlxkREXGXGRERcZcZGxckNm15Wb/7b6YuUGNiIuMuIiIy4y4iIjLjLiIiMuMuIiIy4y4iIjLjLiIiMuMuIiIy4y4iIjLjLiIiMuMuIiIy4y4iIjLjLiIiMuMuIiIy4yVm7IWLmZxMoNbEhcZMRFRlxkxEVGXGTERUZcZMRFRlxkxEVGXGTERUZcZMRFRlxkxEVGXGTERUZcZMRFRlxkxEVGXGTERUZcZMRFRlxkrNyQsXIziZUb2JC4yIiLjLjIiIuMuMiIi4y4yIiLjLjIiIuMuMiIi4y4yIiLjLjIiIuMuMiIi4y4yIiLjLjIiIuMuMiIi4y4yIiLjLjIWLkhMsYvsVtXhydkmhsAAAAASUVORK5CYII=)\n"
      ]
    },
    {
      "cell_type": "markdown",
      "metadata": {
        "id": "Tbu13FEG1bOU"
      },
      "source": [
        "W kodzie deklarujemy w pierwszych trzech argumentach konstruktora `torch.nn.Conv2d`: liczbę kanałów wejściowych, liczbę kanałów wyjściowych, rozmiar filtra. Przy okazji, torchowa konwencja - aby podać rozmiar okna 2d możemy użyć jako argumentu zarówno krotki (x,y) jak i jednej liczby całkowitej, definiującej okno kwadratowe (x,x)."
      ]
    },
    {
      "cell_type": "code",
      "metadata": {
        "colab": {
          "base_uri": "https://localhost:8080/"
        },
        "id": "o6mE3K5IzwaL",
        "outputId": "946f2757-cf12-46b2-c4df-9926ce005dc3"
      },
      "source": [
        "data_batch = torch.zeros(10,16,32,32)\n",
        "\n",
        "#deklaracja warstwy: 16 kanałów wejściowych, 32 wyjściowych, filtr 2x2\n",
        "conv_layer = torch.nn.Conv2d(16,32,2) \n",
        "\n",
        "conv_layer(data_batch).shape"
      ],
      "execution_count": null,
      "outputs": [
        {
          "output_type": "execute_result",
          "data": {
            "text/plain": [
              "torch.Size([10, 16, 31, 31])"
            ]
          },
          "metadata": {
            "tags": []
          },
          "execution_count": 5
        }
      ]
    },
    {
      "cell_type": "markdown",
      "metadata": {
        "id": "VeWUFAhbzbzP"
      },
      "source": [
        "Jak widać, w wymiarach szerokości i wysokości, mapy cech zmniejszają się o 1.\n",
        "\n",
        "Parametr `padding` pozwala na dodanie dodatkowych pikseli na krawędzi obrazka. Używany jest, aby zachować stałą szerokość i wysokość mapy cech po konwolucji. Dla `padding=1` pola obejmowane przez filtr będą wyglądać tak: \n",
        "\n",
        "![padding.png](data:image/png;base64,iVBORw0KGgoAAAANSUhEUgAAAJcAAACXCAYAAAAYn8l5AAAAAXNSR0IArs4c6QAAAARnQU1BAACxjwv8YQUAAAAJcEhZcwAADsQAAA7EAZUrDhsAAAIQSURBVHhe7dzBSQNRGEbRUSOkgijiwm5sQyvTNuzGhUicCgJGFGVK8L4BPWc1/+ptLszuO9mcbj4nCPzE9XZ1s5zjXLw+Tw+3j8s1zv3T3XR8fFmucTZ319Pucrdc48z7ebV3T5dv+HXiIiMuMuIiIy4y4iIjLjLiIiMuMuIiIy4y4iIjLjLiIiMuMuIiIy4y4iIjLjLiIiMuMuIiIy4y4iIjLjLiIiMuMuIiY+WGjJWbQb5Xbt4/3pdrnPOz8+lwPCzXONvN1m+RjrjIiIuMuMiIi4y4yIiLjLjIiIuMuMiIi4y4yIiLjLjIiIuMuMiIi4y4yIiLjLjIiIuMuMiIi4y4yIiLjLjIiIuMuMhYuSHzE9fucrec48z7ebXVl//2rpUb/hxxkREXGXGRERcZcZERFxlxkREXGXGRERcZcZERFxlxkREXGXGRERcZcZERFxlxkREXGXGRERcZcZERFxlxkREXGXGRsXJDZtWVm7XWV7zbs3JDSlxkxEVGXGTERUZcZMRFRlxkxEVGXGTERUZcZMRFRlxkxEVGXGTERUZcZMRFRlxkxEVGXGTERUZcZMRFRlxkxEVGXGSs3JCxcjOIlRv4ReIiIy4y4iIjLjLiIiMuMuIiIy4y4iIjLjLiIiMuMuIiIy4y4iIjLjLiIiMuMuIiIy4y4iIjLjLiIiMuMuIiIy4y4iJj5YbINH0BSkRXh2dmzjsAAAAASUVORK5CYII=)"
      ]
    },
    {
      "cell_type": "code",
      "metadata": {
        "colab": {
          "base_uri": "https://localhost:8080/"
        },
        "id": "F6mnhD9Z0VpG",
        "outputId": "d2ffa3f8-70ac-43e8-bc46-53e8eaf4291a"
      },
      "source": [
        "data_batch = torch.zeros(10,16,32,32)\n",
        "\n",
        "conv_layer = torch.nn.Conv2d(16,16,2,padding=1) \n",
        "print(conv_layer(data_batch).shape)\n",
        "\n",
        "conv_layer = torch.nn.Conv2d(16,16,3,padding=1) \n",
        "print(conv_layer(data_batch).shape)"
      ],
      "execution_count": null,
      "outputs": [
        {
          "output_type": "stream",
          "text": [
            "torch.Size([10, 16, 33, 33])\n",
            "torch.Size([10, 16, 32, 32])\n"
          ],
          "name": "stdout"
        }
      ]
    },
    {
      "cell_type": "markdown",
      "metadata": {
        "id": "07Qx179KPr_X"
      },
      "source": [
        "Zauważ, że ze względu na symetryczny padding (dodawanie pikseli po obu stronach obrazu wejściowego) operacja zachowuje wysokość i szerokość tylko dla filtra o nieparzystym rozmiarze."
      ]
    },
    {
      "cell_type": "markdown",
      "metadata": {
        "id": "i1zHZ9pf0WVg"
      },
      "source": [
        "Parametr `stride` to krok filtra. Używany jest aby zredukować wymiary szerokości i wysokości pomiędzy kolejnymi warstwami konwolucyjnymi. `stride=2` daje nam downsampling do dwukrotnie mniejszej rozdzielczości, z wykorzystaniem uczącej się warstwy która może jednocześnie zmienić liczbę kanałów:\n",
        "\n",
        "![stride.png](data:image/png;base64,iVBORw0KGgoAAAANSUhEUgAAAJcAAACXCAYAAAAYn8l5AAAAAXNSR0IArs4c6QAAAARnQU1BAACxjwv8YQUAAAAJcEhZcwAADsQAAA7EAZUrDhsAAAHtSURBVHhe7dyxTcNQGEZRE7nIBAlCFIzGaIxGEUWQCVJEAoHeCL7PzTmVX/U3V3L3Pa2H9WeBwH9cp+fTeM5z+7ot7vb2vHsY37A5cZERFxlxkREXGXGRERcZcZERFxlxkREXGXGRERcZcZERFxlxkREXGXGRERcZcZERFxlxkREXGXGRERcZcZERFxlxkbFyQ2bXlZvvl7fxmud8/dzt7uPjMl7zrO+vu931WyQjLjLiIiMuMuIiIy4y4iIjLjLiIiMuMuIiIy4y4iIjLjLiIiMuMuIiIy4y4iIjLjLiIiMuMuIiIy4y4iIjLjLiIiMuMlZuyFi5mcTKDWxIXGTERUZcZMRFRlxkxEVGXGTERUZcZMRFRlxkxEVGXGTERUZcZMRFRlxkxEVGXGTERUZcZMRFRlxkxEVGXGTERUZcZKzckNl15eb+uI/XPMf16O4Ef3f9FsmIi4y4yIiLjLjIiIuMuMiIi4y4yIiLjLjIiIuMuMiIi4y4yIiLjLjIiIuMuMiIi4y4yIiLjLjIiIuMuMiIi4y4yIiLjJUbMlZuJrFyAxsSFxlxkREXGXGRERcZcZERFxlxkREXGXGRERcZcZERFxlxkREXGXGRERcZcZERFxlxkREXGXGRERcZcZERFxlxkREXGSs3RJblF7EiV4cGDhHXAAAAAElFTkSuQmCC)\n"
      ]
    },
    {
      "cell_type": "code",
      "metadata": {
        "colab": {
          "base_uri": "https://localhost:8080/"
        },
        "id": "9JvzVbqV0sPM",
        "outputId": "e9d8d52e-0631-465b-a963-a4e7e9c169b5"
      },
      "source": [
        "data_batch = torch.zeros(10,16,32,32)\n",
        "conv_layer = torch.nn.Conv2d(16,16,2,stride=2) \n",
        "\n",
        "conv_layer(data_batch).shape"
      ],
      "execution_count": null,
      "outputs": [
        {
          "output_type": "execute_result",
          "data": {
            "text/plain": [
              "torch.Size([10, 16, 16, 16])"
            ]
          },
          "metadata": {
            "tags": []
          },
          "execution_count": 7
        }
      ]
    },
    {
      "cell_type": "markdown",
      "metadata": {
        "id": "u6ifAckh0sdv"
      },
      "source": [
        "Parametr `dilation` określa rozstaw filtra. Pozwala to obejmować filtrem piksele odległe od siebie o pewną stałą wartość. Szczególnie istotnym wykorzystaniem tego parametru jest użycie sekwencji warstw, w których kolejne wartości `dilation` to kolejne potęgi 2 - efektywnie skalując rozmiar pola obejmowanego przez całą architekturę wykładniczo z głębokością. Dla `dilation=2`:\n",
        "\n",
        "![dilation.png](data:image/png;base64,iVBORw0KGgoAAAANSUhEUgAAAJcAAACXCAYAAAAYn8l5AAAAAXNSR0IArs4c6QAAAARnQU1BAACxjwv8YQUAAAAJcEhZcwAADsQAAA7EAZUrDhsAAAINSURBVHhe7dwxSgNRFEDRMY7gCoyIRZaWpWVpFiImKwgYUSKzBO+fIudU86rHwIXfvbt5M/9MEPiL6+n5aRnHOX2eJnt7a+7dLN/w78RFRlxkxEVGXGTERUZcZMRFRlxkxEVGXGTERUZcZMRFRlxkxEVGXGTERUZcZMRFRlxkxEVGXGTERUZcZMRFRlxkxEXGlRsyq165Ob7slmmc7cfbdDm8L9M48/715v7Xs0hGXGTERUZcZMRFRlxkxEVGXGTERUZcZMRFRlxkxEVGXGTERUZcZMRFRlxkxEVGXGTERUZcZMRFRlxkxEVGXGTERUZcZFy5IbPqlZuv769lGufh/sHeAa57PYtkxEVGXGTERUZcZMRFRlxkxEVGXGTERUZcZMRFRlxkxEVGXGTERUZcZMRFRlxkxEVGXGTERUZcZMRFRlxkxEVGXGTERcaVGzKrXrk5vuyWaZztx9t0Obwv0zjz/vXm/tezSEZcZMRFRlxkxEVGXGTERUZcZMRFRlxkxEVGXGTERUZcZMRFRlxkxEVGXGTERUZcZMRFRlxkxEVGXGTERUZcZMRFRlxkXLkhs+qVm/PlvEzjPM6P9g5w3etZJCMuMuIiIy4y4iIjLjLiIiMuMuIiIy4y4iIjLjLiIiMuMuIiIy4y4iIjLjLiIiMuMuIiIy4y4iIjLjLiIiMuMuIiIy4yrtwQmaZfvdJXhyR8RbMAAAAASUVORK5CYII=)"
      ]
    },
    {
      "cell_type": "code",
      "metadata": {
        "colab": {
          "base_uri": "https://localhost:8080/"
        },
        "id": "8iIRPj8G0tpt",
        "outputId": "9033e6e3-5f51-43d0-f492-66fa0eb630f1"
      },
      "source": [
        "data_batch = torch.zeros(10,16,32,32)\n",
        "conv_layer = torch.nn.Conv2d(16,16,2,dilation=2) \n",
        "\n",
        "conv_layer(data_batch).shape"
      ],
      "execution_count": null,
      "outputs": [
        {
          "output_type": "execute_result",
          "data": {
            "text/plain": [
              "torch.Size([10, 16, 30, 30])"
            ]
          },
          "metadata": {
            "tags": []
          },
          "execution_count": 8
        }
      ]
    },
    {
      "cell_type": "markdown",
      "metadata": {
        "id": "C4lJejrdw2sY"
      },
      "source": [
        "#Pooling\n",
        "\n",
        "Zanim z warstw zbudujemy sieć, warto jeszcze wprowadzić operacje: poolingu i spłaszczania."
      ]
    },
    {
      "cell_type": "code",
      "metadata": {
        "colab": {
          "base_uri": "https://localhost:8080/"
        },
        "id": "b7RtR3bMxOeN",
        "outputId": "ac25212d-58cc-49a5-945b-93b841af58d8"
      },
      "source": [
        "pool_layer =  torch.nn.MaxPool2d(2) #okno o stałym rozmiarze 2x2\n",
        "adaptive_pool_layer = torch.nn.AdaptiveAvgPool2d((2,4)) #pooling adaptacyny\n",
        "flatten_layer = torch.nn.Flatten()\n",
        "\n",
        "data_batch = torch.zeros(10,3,128,128)\n",
        "pool_layer(data_batch).shape, adaptive_pool_layer(data_batch).shape, flatten_layer(data_batch).shape"
      ],
      "execution_count": null,
      "outputs": [
        {
          "output_type": "execute_result",
          "data": {
            "text/plain": [
              "(torch.Size([10, 3, 64, 64]),\n",
              " torch.Size([10, 3, 2, 4]),\n",
              " torch.Size([10, 49152]))"
            ]
          },
          "metadata": {
            "tags": []
          },
          "execution_count": 3
        }
      ]
    },
    {
      "cell_type": "markdown",
      "metadata": {
        "id": "ZYOpQgMPxOLh"
      },
      "source": [
        "Dwa standardowe typy poolingu to Max i Average pooling - zwracające odpowiednio maximum lub średnią z okna pooling. \n",
        "\n",
        "Pooling o stałym rozmiarze okna pozwala nam na downsampling w wymiarach szerokości i wysokości bez potrzeby dodawania uczącej się warstwy. Przykładowo, okno 2x2 da nam redukcję szerokości i wysokości o dwa razy.\n",
        "\n",
        "Pooling o adaptacyjnym rozmiarze okna pozwala na sprowadzenie wyniku konwolucji do stałego, zadanego rozmiaru wysokość/szerokość, co jest szczególnie przydatne jeśli chcemy przetwarzać obrazy o różnych rozmiarach. Zwykle wykorzystuje się go tylko w jednym miejscu, przed spłaszczeniem i ostatnią warstwą w pełni połączoną. Adaptacyjna warstwa poolingu z parametrem 2 bedzie redukować rozmiar w wymiarach wysokość, szerokośc do 2 na 2 - samodzielnie wyliczając dla każdego wejścia rozmiar okna potrzebny, żeby takie wyjście uzyskać.\n",
        "\n",
        "Spłaszczanie zaś, jak sama nazwa wskazuje spłaszcza kształt tensora z (B, C, H, W) do (B, C\\*H\\*W)\n",
        "\n",
        "\n",
        "\n"
      ]
    },
    {
      "cell_type": "markdown",
      "metadata": {
        "id": "HUBcA0jHpr1d"
      },
      "source": [
        "Aby przejść do budowania i uczenia sieci konwolucyjnych, wczytamy zbiór CIFAR10. Zdefiniujemy też funkcje wykorzystane już na poprzednich laboratoriach:"
      ]
    },
    {
      "cell_type": "code",
      "metadata": {
        "colab": {
          "base_uri": "https://localhost:8080/",
          "height": 117,
          "referenced_widgets": [
            "91987d973ad04ea6b1f917bca21aa6cb",
            "ff56e7c1bf1e4eefbda19742d15ada3a",
            "701d24ad4e95464685401877b3d4bfb9",
            "b9dac33d25d641e5951f20b36fc80ef5",
            "7c11f289d79f45f1be7b581a3b581512",
            "650ebaba88514f38bc12de0635c7f1e7",
            "fa17f0a26a924edfb2baf48dba0ef5e6",
            "4998a6ab395a40d2aee73b208613c43e"
          ]
        },
        "id": "ZJF5ojwhhIKI",
        "outputId": "512ee451-e7e5-434c-fe1a-af15dfa95102"
      },
      "source": [
        "import torchvision\n",
        "import torch.nn as nn\n",
        "import torch.optim as optim\n",
        "from torch.utils.data import DataLoader\n",
        "from typing import Tuple\n",
        "from tqdm import tqdm\n",
        "\n",
        "transform = torchvision.transforms.ToTensor()\n",
        "\n",
        "train_ds = torchvision.datasets.CIFAR10(\"cifar_root\", transform=transform, download=True)\n",
        "test_ds = torchvision.datasets.CIFAR10(\"cifar_root\", transform=transform, train=False, download=True)\n",
        "\n",
        "train_dl = DataLoader(train_ds, batch_size=32, shuffle=True, pin_memory=True)\n",
        "test_dl = DataLoader(test_ds, batch_size=32, pin_memory=True)\n",
        "\n",
        "def count_correct(\n",
        "    y_pred: torch.Tensor, y_true: torch.Tensor\n",
        ") -> torch.Tensor:\n",
        "    preds = torch.argmax(y_pred, dim=1)\n",
        "    return (preds == y_true).float().sum()\n",
        "\n",
        "def validate(\n",
        "    model: nn.Module, \n",
        "    loss_fn: torch.nn.CrossEntropyLoss, \n",
        "    dataloader: DataLoader\n",
        ") -> Tuple[torch.Tensor, torch.Tensor]:\n",
        "    loss = 0\n",
        "    correct = 0\n",
        "    all = 0\n",
        "    for X_batch, y_batch in dataloader:\n",
        "        y_pred = model(X_batch.cuda())\n",
        "        all += len(y_pred)\n",
        "        loss += loss_fn(y_pred, y_batch.cuda()).sum()\n",
        "        correct += count_correct(y_pred, y_batch.cuda())\n",
        "    return loss / all, correct / all\n",
        "\n",
        "def fit(\n",
        "    model: nn.Module, optimiser: optim.Optimizer, \n",
        "    loss_fn: torch.nn.CrossEntropyLoss, train_dl: DataLoader, \n",
        "    val_dl: DataLoader, epochs: int, \n",
        "    print_metrics: str = True\n",
        "):\n",
        "  for epoch in range(epochs):\n",
        "      for X_batch, y_batch in tqdm(train_dl):\n",
        "          y_pred = model(X_batch.cuda())\n",
        "          loss = loss_fn(y_pred, y_batch.cuda())\n",
        "\n",
        "          loss.backward()\n",
        "          optimiser.step()\n",
        "          optimiser.zero_grad()\n",
        "\n",
        "      if print_metrics: \n",
        "          model.eval()\n",
        "          with torch.no_grad():\n",
        "              train_loss, train_acc = validate(\n",
        "                  model=model, loss_fn=loss_fn, dataloader=train_dl\n",
        "              ) \n",
        "              val_loss, val_acc = validate(\n",
        "                  model=model, loss_fn=loss_fn, dataloader=val_dl\n",
        "              )\n",
        "              print(\n",
        "                  f\"Epoch {epoch}: \"\n",
        "                  f\"train loss = {train_loss:.3f} (acc: {train_acc:.3f}), \"\n",
        "                  f\"validation loss = {val_loss:.3f} (acc: {val_acc:.3f})\"\n",
        "              )       "
      ],
      "execution_count": null,
      "outputs": [
        {
          "output_type": "stream",
          "text": [
            "Downloading https://www.cs.toronto.edu/~kriz/cifar-10-python.tar.gz to cifar_root/cifar-10-python.tar.gz\n"
          ],
          "name": "stdout"
        },
        {
          "output_type": "display_data",
          "data": {
            "application/vnd.jupyter.widget-view+json": {
              "model_id": "91987d973ad04ea6b1f917bca21aa6cb",
              "version_minor": 0,
              "version_major": 2
            },
            "text/plain": [
              "HBox(children=(FloatProgress(value=0.0, max=170498071.0), HTML(value='')))"
            ]
          },
          "metadata": {
            "tags": []
          }
        },
        {
          "output_type": "stream",
          "text": [
            "\n",
            "Extracting cifar_root/cifar-10-python.tar.gz to cifar_root\n",
            "Files already downloaded and verified\n"
          ],
          "name": "stdout"
        }
      ]
    },
    {
      "cell_type": "markdown",
      "metadata": {
        "id": "LUUF4LSxqJEe"
      },
      "source": [
        "Zdefiniujmy teraz prostą sieć konwolucyjną."
      ]
    },
    {
      "cell_type": "markdown",
      "metadata": {
        "id": "z79oc3U1vK5x"
      },
      "source": [
        "# Zadanie 2\n",
        "\n",
        "Uzupełnij kod klasy `SimpleCNN` tak, aby warstwy konwolucyjne nie zmieniały szerokości i wysokości mapy cech na wyjściu oraz aby wyjście w postaci tensora miało kształt zgodny z pożądanym `(batch_size, labels)`. Użyj rozmiaru filtra 3x3. \n",
        "\n",
        "Zauważ, że o ile warstwy konwolucyjne nie muszą znać rozmiaru obrazu, o tyle spłaszczenie obrazu i podanie do warstwy w pełni połączonej wymusza na nas zdefiniowanie tego rozmiaru z góry. Sieć zbudowana w ten sposób przetwarzać będzie tylko obrazy o stałej szerokości i wysokości. Na potrzeby zadania, sieć ma być dostosowana do zbioru CIFAR: przyjmować obrazy RGB, 32x32 na wejściu i zwracać 10-elementowy wektor na wyjściu."
      ]
    },
    {
      "cell_type": "code",
      "metadata": {
        "id": "sGaP3-h8gfq4"
      },
      "source": [
        "class SimpleCNN(torch.nn.Module):\n",
        "  def __init__(self, channels: int, labels: int):\n",
        "    super().__init__()\n",
        "    self.model = torch.nn.Sequential()\n",
        "    self.model.add_module(\"conv_1\", #  tu zdefiniuj warstwę konwolucyjną\n",
        "    self.model.add_module(\"relu_1\", torch.nn.ReLU())\n",
        "    self.model.add_module(\"max_pool\", torch.nn.MaxPool2d(2))\n",
        "    self.model.add_module(\"conv_2\"  # tu zdefiniuj warstwę konwolucyjną\n",
        "    self.model.add_module(\"relu_2\", torch.nn.ReLU())\n",
        "    self.model.add_module(\"flatten\", torch.nn.Flatten())\n",
        "    self.model.add_module(\"linear\" # tu zdefiniuj warstwę w pełni połączoną\n",
        "  \n",
        "  def forward(self, x):\n",
        "    return self.model(x)"
      ],
      "execution_count": null,
      "outputs": []
    },
    {
      "cell_type": "markdown",
      "metadata": {
        "id": "I4pEqW2m0dNI"
      },
      "source": [
        "Zweryfikuj, że sieć zwraca wlaściwy wymiar wyjścia i zmierz czas przetwarzania konwolucji na CPU i GPU"
      ]
    },
    {
      "cell_type": "code",
      "metadata": {
        "colab": {
          "base_uri": "https://localhost:8080/"
        },
        "id": "fSHYFMHARbhP",
        "outputId": "75a1816d-139f-4656-86e2-c80f8d797b59"
      },
      "source": [
        "cnn_model = SimpleCNN(16, 10)\n",
        "out = cnn_model(torch.zeros(128,3,32,32))\n",
        "assert out.shape==(128,10)\n",
        "\n",
        "%timeit cnn_model(torch.zeros(128,3,32,32))\n",
        "cnn_model.cuda()\n",
        "%timeit cnn_model(torch.zeros(128,3,32,32).cuda())\n"
      ],
      "execution_count": null,
      "outputs": [
        {
          "output_type": "stream",
          "text": [
            "100 loops, best of 5: 13.7 ms per loop\n",
            "The slowest run took 18.83 times longer than the fastest. This could mean that an intermediate result is being cached.\n",
            "1000 loops, best of 5: 1 ms per loop\n"
          ],
          "name": "stdout"
        }
      ]
    },
    {
      "cell_type": "markdown",
      "metadata": {
        "id": "ha-Jn3E3uOHj"
      },
      "source": [
        "Sprawdźmy, że jesteśmy w stanie uczyć tę sieć:"
      ]
    },
    {
      "cell_type": "code",
      "metadata": {
        "colab": {
          "base_uri": "https://localhost:8080/"
        },
        "id": "V41gi6ErnEm2",
        "outputId": "f1d3dfdb-5f72-4d8e-a20f-f5b090a7401a"
      },
      "source": [
        "optimizer = optim.Adam(cnn_model.parameters())\n",
        "loss_fn = torch.nn.CrossEntropyLoss()\n",
        "fit(cnn_model, optimizer, loss_fn, train_dl, test_dl, 5, True)"
      ],
      "execution_count": null,
      "outputs": [
        {
          "output_type": "stream",
          "text": [
            "Epoch 0: train loss = 0.038 (acc: 0.589), validation loss = 0.039 (acc: 0.564)\n",
            "Epoch 1: train loss = 0.037 (acc: 0.604), validation loss = 0.039 (acc: 0.574)\n",
            "Epoch 2: train loss = 0.035 (acc: 0.622), validation loss = 0.038 (acc: 0.581)\n",
            "Epoch 3: train loss = 0.034 (acc: 0.626), validation loss = 0.038 (acc: 0.587)\n",
            "Epoch 4: train loss = 0.035 (acc: 0.620), validation loss = 0.039 (acc: 0.572)\n"
          ],
          "name": "stdout"
        }
      ]
    },
    {
      "cell_type": "markdown",
      "metadata": {
        "id": "PToWX2lGuUxq"
      },
      "source": [
        "# Zadanie 3\n",
        "\n",
        "Zdefiniuj klasę `CNN`, sieć o strukturze\n",
        "\n",
        "*   warstwa wejściowa in_conv o rozmiarze filtra 1x1 (transformacja liczby kanałów)\n",
        "*   naprzemiennie - konwolucja, downsampling x2, konwolucja...\n",
        "*   spłaszczenie wyniku do wektora\n",
        "*   warstwa w pełni połączona\n",
        "\n",
        "Klasa powinna być parametryzowalna tak, aby\n",
        "\n",
        "*   umożliwić wybór rozmiaru filtra w warstwach konwolucji oprócz in_conv\n",
        "*   umożliwić wybór zarówno liczby warstw, jak i liczby kanałów w poszczególnych warstwach konwolucyjnych\n",
        "*   umożliwić wybór między downsamplingiem z użyciem poolingu a użyciem  warstwy konwolucyjnej\n",
        "\n",
        "\n"
      ]
    },
    {
      "cell_type": "code",
      "metadata": {
        "id": "-seIQK_NtwbU"
      },
      "source": [
        "class CNN(torch.nn.Module):\n",
        "  def __init__(self, # napisz konstruktor z parametrami\n",
        "\n",
        "  def forward(self,x):\n",
        "    # napisz funkcję forward"
      ],
      "execution_count": null,
      "outputs": []
    },
    {
      "cell_type": "markdown",
      "metadata": {
        "id": "rEn1I_S2Wi_p"
      },
      "source": [
        "Zweryfikuj działanie implementacji:"
      ]
    },
    {
      "cell_type": "code",
      "metadata": {
        "id": "hMYvKPsM18z0",
        "colab": {
          "base_uri": "https://localhost:8080/"
        },
        "outputId": "e61ec4a5-9c28-464c-bfcd-c85e2d3f985c"
      },
      "source": [
        "dummy_data = torch.zeros(37,3,32,32)\n",
        "\n",
        "cnn_model = CNN( # utwórz CNN z: 15 etykietami wyjściowymi, filtrem 5x5, 3 warstwy conv z liczbą kanałów: 16,32,64, downsampling warstwą konwolucyjną \n",
        "assert cnn_model(dummy_data).shape == (37,15)\n",
        "\n",
        "cnn_model = CNN( # utwórz CNN: 10 etykiet wyjściowych, filtr 3x3, 4 warstwy conv z liczbą kanałów: 8,16,32,64, downsampling warstwą poolingu\n",
        "assert cnn_model(dummy_data).shape == (37,10)\n",
        "\n",
        "%timeit cnn_model(torch.zeros(128,3,32,32))\n",
        "cnn_model.cuda()\n",
        "%timeit cnn_model(torch.zeros(128,3,32,32).cuda())"
      ],
      "execution_count": null,
      "outputs": [
        {
          "output_type": "stream",
          "text": [
            "10 loops, best of 5: 43.7 ms per loop\n",
            "100 loops, best of 5: 3.04 ms per loop\n"
          ],
          "name": "stdout"
        }
      ]
    },
    {
      "cell_type": "markdown",
      "metadata": {
        "id": "RLzUFfWX1ubo"
      },
      "source": [
        "# Zadanie 4\n",
        "\n",
        "Wykorzystaj zdefiniowaną klasę, aby przeprowadzić porównania:\n",
        "\n",
        "1.   Uczenie z filtrem 3x3 a 5x5\n",
        "2.   Uczenie z Max Pooling a warstwą konwolucją do downsamplingu\n",
        "3.   Uczenie z trzema warstwami o rozmiarach 16,32,64, a uczenie z trzema warstwami o rozmiarach 32,32,32\n",
        "\n",
        "Porównaj w kontekście metryki F-score, wyrysuj krzywe uczenia. Możesz tu korzystać z kodu napisanego na poprzednich laboratoriach.\n"
      ]
    },
    {
      "cell_type": "code",
      "metadata": {
        "id": "N0o-OIW5VGkW"
      },
      "source": [
        "# użyj klasy CNN aby wykonać eksperymenty"
      ],
      "execution_count": null,
      "outputs": []
    }
  ]
}