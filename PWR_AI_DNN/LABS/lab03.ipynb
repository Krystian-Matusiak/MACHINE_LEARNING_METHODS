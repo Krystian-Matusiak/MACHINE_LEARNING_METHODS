{
  "nbformat": 4,
  "nbformat_minor": 0,
  "metadata": {
    "colab": {
      "name": "lab03.ipynb",
      "provenance": [],
      "collapsed_sections": [],
      "toc_visible": true
    },
    "kernelspec": {
      "name": "python3",
      "display_name": "Python 3"
    },
    "accelerator": "GPU"
  },
  "cells": [
    {
      "cell_type": "markdown",
      "metadata": {
        "id": "l1koAEgYAJr-"
      },
      "source": [
        "# Wstęp\r\n",
        "\r\n",
        "Na poprzednich zajęciach nauczyłeś(aś) się jak skonstruować od zera podstawową komórkę sieci neuronowej - Perceptron. Na tych zajęciach przejdziemy już do wykorzystywania bardziej zaawansowanych funkcji PyTorcha, które przydają się na codzień do konstruowania sieci neuronowych.\r\n",
        "\r\n",
        "## Cel ćwiczenia\r\n",
        "\r\n",
        "Celem ćwiczenia jest zapoznanie z podstawowymi funkcjami biblioteki PyTorch do tworzenia i uczenia sieci neuronowych a w szczególności z:\r\n",
        "*   Automatycznym liczeniem gradientów i grafem obliczeniowym (autograd)\r\n",
        "*   Algorytmami off-line, on-line a także pojęciem mini-batch\r\n",
        "*   Algorytmami optymalizacji sieci neuronowych\r\n",
        "*   Liczeniem wartości fuknkcji straty\r\n",
        "*   Przekształceniami nieliniowymi\r\n",
        "*   Modułem `torch.nn`\r\n",
        "\r\n",
        "## Warunki zaliczenia\r\n",
        "\r\n",
        "W celu zaliczenia ćwiczeń należy uzupełnić wszystkie brakujące elementu kodu, wykonać wszystkie polecenia i wyuczyć model.\r\n"
      ]
    },
    {
      "cell_type": "code",
      "metadata": {
        "id": "kUJ1zQQXs7ip"
      },
      "source": [
        "import math\r\n",
        "import warnings\r\n",
        "from typing import Tuple\r\n",
        "\r\n",
        "import torch\r\n",
        "import torch.nn.functional as F\r\n",
        "from sklearn.model_selection import train_test_split\r\n",
        "from sklearn.datasets import load_iris\r\n",
        "from torch import nn\r\n",
        "from torch import optim\r\n",
        "from torch.utils.data import TensorDataset, DataLoader\r\n",
        "\r\n",
        "assert torch.cuda.is_available(), \"Uruchom środowisko wykonawcze na GPU\""
      ],
      "execution_count": null,
      "outputs": []
    },
    {
      "cell_type": "markdown",
      "metadata": {
        "id": "er1hgYZsm5-6"
      },
      "source": [
        "# Autograd - automatyczne liczenie gradientów\r\n",
        "\r\n",
        "Na poprzednich laboratoriach implementowałeś(aś) funkcję wstecznej propagacji. W tym celu liczyłaś(eś) pochodne (gradienty). Przyjrzyjmy się najpierw funkcji\r\n",
        "$$f(x, y) = 3x^2 + y^3$$\r\n",
        "Możemy tę funkcję różniczkować po dwóch zmiennych: $x$ i $y$:\r\n",
        "$$\\frac{\\partial f}{\\partial x} = 6x$$\r\n",
        "\r\n",
        "$$\\frac{\\partial f}{\\partial y} = 3y^2$$\r\n",
        "\r\n",
        "Jeżeli funkcję $f(x,y)$ złożymy z funkcją $g(x) = x^2$ tworząc funkcję $h(x, y) = f(g(x), y)$ to z **reguły łańcuchowej** pochodna takiej funkcji wyniesie:\r\n",
        "\r\n",
        "$$\\frac{\\partial h}{\\partial x} = \\frac{\\partial f}{\\partial g} \\frac{\\partial g}{\\partial x} = (6 (x^2)) (2 x) = 12 x^3$$\r\n",
        "\r\n",
        "Tego typu obliczenia przy wielu warstwach sieci (a więc przy wielu złożeniach funkcji liniowych i nieliniowych) stają się mocno skomplikowane. Na szczęście PyToch dostarcza `torch.autograd` - silnik do zaumatyzowanego liczenia gradientów. Jak on działa? Najpierw zdefiniujmy wektory $\\mathbf x$ i $\\mathbf y$."
      ]
    },
    {
      "cell_type": "code",
      "metadata": {
        "id": "SRkbe7sPm5dL"
      },
      "source": [
        "x = torch.tensor([0., 1., 5.], requires_grad=True)\r\n",
        "y = torch.tensor([8., 2., 4.], requires_grad=True)"
      ],
      "execution_count": null,
      "outputs": []
    },
    {
      "cell_type": "markdown",
      "metadata": {
        "id": "Z6L2Lx63vTOn"
      },
      "source": [
        "Zauważ, że tworząc tensor przekazaliśmy parametr `requires_grad=True`. Sprawia on, że wszystkie operacje dokonane na tym tensorze są śledzone i tensor wynikowy będzie \"pamiętał\" przy użyciu jakiej operacji powstał. Policzmy naszą funkcję $f( \\mathbf x, \\mathbf y)$ dla tych tensorów."
      ]
    },
    {
      "cell_type": "code",
      "metadata": {
        "id": "_FE9yAWMvR4Q"
      },
      "source": [
        "z = 3*x**2 + y**3\r\n",
        "z"
      ],
      "execution_count": null,
      "outputs": []
    },
    {
      "cell_type": "markdown",
      "metadata": {
        "id": "C4aNNpt8xqpk"
      },
      "source": [
        "Jak widać uzyskany tensor ma także zapisany parametr `grad_fn=<AddBackward0>`, czyli że powstał z dodania dwóch tensorów - dodawanie jest ostatnią operacją, która zostałą wykonana, żeby otrzymać ten tensor. Dokonajmy propagacji wstecznej w celu policzenia gradientów.\r\n"
      ]
    },
    {
      "cell_type": "code",
      "metadata": {
        "id": "b1_vOt2yxqHb"
      },
      "source": [
        "grad_tensors = torch.tensor([1., 1., 1.])\r\n",
        "z.backward(grad_tensors)\r\n",
        "print(x.grad == 6*x)\r\n",
        "print(y.grad == 3*y**2)"
      ],
      "execution_count": null,
      "outputs": []
    },
    {
      "cell_type": "markdown",
      "metadata": {
        "id": "kqqmScaJQoZ3"
      },
      "source": [
        "Na razie nie przejmuj się tym za co odpowiada `grad_tensors`. Policzmy wartość funkcji $h$.\r\n",
        "\r\n"
      ]
    },
    {
      "cell_type": "code",
      "metadata": {
        "id": "8OtdWj0Y7XGa"
      },
      "source": [
        "a = 3*(x**2)**2 + y**3\r\n",
        "a.backward(grad_tensors)\r\n",
        "print(x.grad)\r\n",
        "print(12*(x**3))\r\n",
        "print(x.grad == 12*(x**3))"
      ],
      "execution_count": null,
      "outputs": []
    },
    {
      "cell_type": "markdown",
      "metadata": {
        "id": "tgIDyhN4RanY"
      },
      "source": [
        "Nie zgadzają nam się wartości. Wynika to z kolejnej właśności pytorchowego autograda - gradienty w tensorach są **akumulowane**. Jak wykonasz powyższą komórkę wielekrotnie to zobaczysz że wartości `x.grad` rosną dokładnie o $12x_i^3$ po każdym wykonaniu. Akumulacja gradientów jest przydatna w niektórych architekturach sieci neuronowych. Dlatego też trzeba *explicite* wyzerować gradienty."
      ]
    },
    {
      "cell_type": "code",
      "metadata": {
        "id": "83kl2IWHO491"
      },
      "source": [
        "x.grad.data.zero_()\r\n",
        "a = 3*(x**2)**2 + y**3\r\n",
        "a.backward(grad_tensors)\r\n",
        "print(x.grad)\r\n",
        "print(12*(x**3))\r\n",
        "assert (x.grad == 12*(x**3)).all()"
      ],
      "execution_count": null,
      "outputs": []
    },
    {
      "cell_type": "markdown",
      "metadata": {
        "id": "nZ4DG0kmaTzl"
      },
      "source": [
        "Ok, powróćmy teraz do `grad_tensors` - co to jest? Otóż autograd jest silnikiem, który służy do wyliczania **macierzy Jacobiego**, tj. pochodnych pierwszego rzędu funkcji, których składowymi są funkcje rzeczywiste.\r\n",
        "\r\n",
        "$$f = (f_1, f_2, \\ldots, f_m)$$\r\n",
        "$$\\mathbf x = (x_1, x_2, \\ldots, x_n)$$\r\n",
        "\r\n",
        "$$\\mathbf J = \\begin{bmatrix}\r\n",
        " \\dfrac{\\partial f_1}{\\partial x_1} & \\cdots & \\dfrac{\\partial f_1}{\\partial x_n} \\\\\r\n",
        " \\vdots & \\ddots & \\vdots \\\\\r\n",
        " \\dfrac{\\partial f_m}{\\partial x_1} & \\cdots & \\dfrac{\\partial f_m}{\\partial x_n}\r\n",
        "\\end{bmatrix}$$\r\n",
        "\r\n",
        "Konkretnie patrząc na przykład z tensorem $a$ macierz Jacobiego wygląda tak:\r\n",
        "$$\\mathbf J_a = \\begin{bmatrix}\r\n",
        " \\dfrac{\\partial a_1}{\\partial x_1} & \\dfrac{\\partial a_1}{\\partial x_2} & \\dfrac{\\partial a_1}{\\partial x_3} \\\\\r\n",
        "  \\dfrac{\\partial a_2}{\\partial x_1} & \\dfrac{\\partial a_2}{\\partial x_2} & \\dfrac{\\partial a_2}{\\partial x_3} \\\\\r\n",
        "   \\dfrac{\\partial a_3}{\\partial x_1} & \\dfrac{\\partial a_3}{\\partial x_2} & \\dfrac{\\partial a_3}{\\partial x_3} \\\\\r\n",
        "\\end{bmatrix}$$\r\n",
        "\r\n",
        "Następnie `grad_tensors` ($\\mathbf z$) mnożymy przez transpozycję tej macierzy (ang. *Jacobian-vector product*).\r\n",
        "\r\n",
        "$$\\mathbf z \\mathbf{J}_a^T = \\begin{bmatrix} 1 & 1 & 1 \\end{bmatrix}\r\n",
        "\r\n",
        "\\begin{bmatrix}\r\n",
        " \\dfrac{\\partial a_1}{\\partial x_1} & \\dfrac{\\partial a_2}{\\partial x_1} & \\dfrac{\\partial a_3}{\\partial x_1} \\\\\r\n",
        "  \\dfrac{\\partial a_1}{\\partial x_2} & \\dfrac{\\partial a_2}{\\partial x_2} & \\dfrac{\\partial a_3}{\\partial x_2} \\\\\r\n",
        "   \\dfrac{\\partial a_1}{\\partial x_3} & \\dfrac{\\partial a_2}{\\partial x_3} & \\dfrac{\\partial a_3}{\\partial x_3} \\\\\r\n",
        "\\end{bmatrix}\r\n",
        "\r\n",
        "= \\begin{bmatrix} 1\\dfrac{\\partial a_1}{\\partial x_1} + 1\\dfrac{\\partial a_1}{\\partial x_2} + 1\\dfrac{\\partial a_1}{\\partial x_3} & 1\\dfrac{\\partial a_2}{\\partial x_1} + 1\\dfrac{\\partial a_2}{\\partial x_2} + 1\\dfrac{\\partial a_2}{\\partial x_3} & 1\\dfrac{\\partial a_3}{\\partial x_1} + 1\\dfrac{\\partial a_3}{\\partial x_2} + 1\\dfrac{\\partial a_3}{\\partial x_3} \\end{bmatrix}\r\n",
        "\r\n",
        "= \\begin{bmatrix} 12(0)^3 + 0 + 0 & 0 + 12(1)^3 + 0 & 0 + 0 + 12(5)^3 \\end{bmatrix} =  \\begin{bmatrix} 0 & 12 & 1500 \\end{bmatrix}$$\r\n",
        "\r\n",
        "Uzyskujemy te same gradienty co policzyliśmy dla wektora $\\mathbf x$. Zamiast przekazywać wektor jedynek do `backward()`, można najpierw policzyć sumę wektora $\\mathbf a$ a potem wykonać propagację wsteczną."
      ]
    },
    {
      "cell_type": "code",
      "metadata": {
        "id": "PVcNdrQKo0d0"
      },
      "source": [
        "x.grad.data.zero_()\r\n",
        "a = 3*(x**2)**2 + y**3\r\n",
        "a.sum().backward()\r\n",
        "print(x.grad)\r\n",
        "print(12*(x**3))\r\n",
        "assert (x.grad == 12*(x**3)).all()"
      ],
      "execution_count": null,
      "outputs": []
    },
    {
      "cell_type": "markdown",
      "metadata": {
        "id": "ZpK5aW-CrKxP"
      },
      "source": [
        "Wtedy pamiętając o tym, że pochodna sumy to suma pochodnych ($(f(x) + g(x))' = f'(x) + g'(x)$):\r\n",
        "\r\n",
        "$$\\begin{bmatrix}\r\n",
        " \\dfrac{\\partial a}{\\partial x_1} & \\dfrac{\\partial a}{\\partial x_2} & \\dfrac{\\partial a}{\\partial x_3}\r\n",
        "\\end{bmatrix} = \\begin{bmatrix} \\dfrac{\\partial (a_1 + a_2 + a_3)}{\\partial x_1} & \\dfrac{\\partial (a_1 + a_2 + a_3)}{\\partial x_2} & \\dfrac{\\partial (a_1 + a_2 + a_3)}{\\partial x_3} \\end{bmatrix} = \\begin{bmatrix} \\dfrac{\\partial a_1}{\\partial x_1} + \\dfrac{\\partial a_2}{\\partial x_1} + \\dfrac{\\partial a_3}{\\partial x_1} & \\dfrac{\\partial a_1}{\\partial x_2} + \\dfrac{\\partial a_2}{\\partial x_2} + \\dfrac{\\partial a_3}{\\partial x_2} & \\dfrac{\\partial a_1}{\\partial x_3} + \\dfrac{\\partial a_2}{\\partial x_3} + \\dfrac{\\partial a_3}{\\partial x_3} \\end{bmatrix} = \\begin{bmatrix} \\dfrac{\\partial a_1}{\\partial x_1} & \\dfrac{\\partial a_2}{\\partial x_2} & \\dfrac{\\partial a_3}{\\partial x_3} \\end{bmatrix} =  \\begin{bmatrix} 0 & 12 & 1500 \\end{bmatrix} $$\r\n",
        "\r\n",
        "Zatem po co w ogóle ten wektor? Otóż służy on do przekazywania wektora gradientu funkcji straty ($\\dfrac{\\partial \\mathbf{loss}}{\\partial \\mathbf w}$). Dzięki temu możemy mieć wpływ na to jaką poprawkę trzeba wykonać na danym wektorze (np. z parametrami modelu) względem tego jak bardzo mocno model pomylił się na danych uczących."
      ]
    },
    {
      "cell_type": "code",
      "metadata": {
        "id": "jPnhVtQ2wIpy"
      },
      "source": [
        "x.grad.data.zero_()\r\n",
        "a = 3*(x**2)**2 + y**3\r\n",
        "a.backward(torch.tensor([0., 0.3, -0.4]))\r\n",
        "print(x.grad)\r\n",
        "print(12*(x**3))"
      ],
      "execution_count": null,
      "outputs": []
    },
    {
      "cell_type": "markdown",
      "metadata": {
        "id": "2nRcH7fZx-m9"
      },
      "source": [
        "## Graf obliczeniowy\r\n",
        "\r\n",
        "To wszystko jest możliwe dzięki temu, że autograd tworzy **acykliczny skierowany graf obilczeniowy**. Gdzie go przechowuje? Spójrzmy jeszcze raz na nasz wektor $\\mathbf a$."
      ]
    },
    {
      "cell_type": "code",
      "metadata": {
        "id": "req-qWXFx-Po"
      },
      "source": [
        "print(a)\r\n",
        "print(a.grad_fn.next_functions)"
      ],
      "execution_count": null,
      "outputs": []
    },
    {
      "cell_type": "markdown",
      "metadata": {
        "id": "vWUeVJI4tC0y"
      },
      "source": [
        "Obiekt a ma pole `grad_fn` a ono ma pole `next_functions`. Widzimy, że $\\mathbf a$ powstało z przemnożenia dwóch tensorów, gdzie pierwszy tensor był wynikiem mnożenia a drugi - potęgowania. A więc na razie wiemy, że `a = (_*_) + (_**_)`. I kolejno przechodząc po tym grafie możemy dalej odkrywać jego strukturę i jaka droga skonstruowania $\\mathbf a$ się za nim kryje."
      ]
    },
    {
      "cell_type": "code",
      "metadata": {
        "id": "iG7ewXOpuBg9"
      },
      "source": [
        "print(a.grad_fn.next_functions[0][0].next_functions) # a = ((_**_))*_) + (_**_)\r\n",
        "print(a.grad_fn.next_functions[0][0].next_functions[0][0].next_functions) # a = (((_**_))**_))*_) + (_**_)\r\n",
        "print(a.grad_fn.next_functions[0][0].next_functions[0][0].next_functions[0][0].next_functions) # a = (((x**_))**_))*_) + (_**_)\r\n",
        "print()\r\n",
        "print(a.grad_fn.next_functions[1][0].next_functions) # a = (((x**_))**_))*_) + (y**_)"
      ],
      "execution_count": null,
      "outputs": []
    },
    {
      "cell_type": "markdown",
      "metadata": {
        "id": "O9AcjeSWwe2C"
      },
      "source": [
        "Po chwilii analizy można dostrzec że ta strutura odpowiada obliczeniu tensora $a$ ze wzoru $3(\\mathbf x^2)^2 + \\mathbf y^3$.\r\n",
        "\r\n",
        "Jeszcze warto wspomnieć o tym, że PyTorch śledzi to dla których tensorów trzeba tworzyć ten graf a dla których nie. Dlatego też jeżeli w operacjach użyjemy tensora, który \"wymaga gradientu\" (`requires_grad=True`) to uzyskamy tensor \"wymagający gradientu\":"
      ]
    },
    {
      "cell_type": "code",
      "metadata": {
        "id": "OsVXVIt0xgmH"
      },
      "source": [
        "x = torch.tensor([1., 2., 3.])\r\n",
        "y = torch.tensor([6., 7., 8.])\r\n",
        "z = torch.tensor([9., 7., 8.], requires_grad=True)\r\n",
        "print((2*x + 3**y).requires_grad)\r\n",
        "print((2*x + 3**y + z).requires_grad)"
      ],
      "execution_count": null,
      "outputs": []
    },
    {
      "cell_type": "markdown",
      "metadata": {
        "id": "F31LTMdi2ZTe"
      },
      "source": [
        "# Refatoring kodu z laboratorium 2\r\n",
        "\r\n",
        "W tej części laboratorium dokonasz refaktoringu kodu z laboratorium drugiego z wykorzystaniem gotowych rozwiązań w bibliotece `torch` a w szczególności w `torch.nn`. Najpierw zacznijmy od załadowania zbioru danych i podzielenia go na zbiór uczący i testowy."
      ]
    },
    {
      "cell_type": "code",
      "metadata": {
        "id": "U9wlFq0z2y-R"
      },
      "source": [
        "X, y = load_iris(return_X_y=True)\r\n",
        "\r\n",
        "X_train, X_test, y_train, y_test = train_test_split(X, y, test_size=0.4, random_state=1, stratify=y)\r\n",
        "\r\n",
        "X_train = torch.tensor(X_train).float().cuda()\r\n",
        "X_test = torch.tensor(X_test).float().cuda()\r\n",
        "y_train = torch.tensor(y_train).cuda()\r\n",
        "y_test = torch.tensor(y_test).cuda()\r\n",
        "\r\n",
        "y_test"
      ],
      "execution_count": null,
      "outputs": []
    },
    {
      "cell_type": "markdown",
      "metadata": {
        "id": "I7l1l8oi5xIM"
      },
      "source": [
        "## `nn.Module` oraz `CrossEntropyLoss`\r\n",
        "\r\n",
        "Na poprzednich laboratoriach w tym miejscu implementowaliśmy funkcję sigmoid, inicjalizację parametrów oraz propagację w przód i wsteczną. Tym razem nie będzie trzeba tego robić, jednakże zdefiniujesz architekturę sieci przy użyciu modułu `torch.nn`.\r\n",
        "\r\n",
        "***Zaimplementuj*** klasę Perceptron - klasę dziedziczącą po `nn.Module` z jedną warstwą transformacji liniowej (Perceptrona, [`torch.nn.Linear`](https://pytorch.org/docs/stable/generated/torch.nn.Linear.html)). Na razie ***pomiń*** transformację nieliniową (np. sigmoid). \r\n",
        "\r\n"
      ]
    },
    {
      "cell_type": "code",
      "metadata": {
        "id": "x3puwuoU_pt_"
      },
      "source": [
        "class Perceptron(nn.Module):\r\n",
        "    def __init__(self):\r\n",
        "        super().__init__()\r\n",
        "        self.net = ___ # Użyj nn.Linear\r\n",
        "    \r\n",
        "    def forward(self, x: torch.Tensor):\r\n",
        "        return self.net(x)\r\n"
      ],
      "execution_count": null,
      "outputs": []
    },
    {
      "cell_type": "markdown",
      "metadata": {
        "id": "rY0OAVWM8DF6"
      },
      "source": [
        "Wspominmy tylko, że można nadal używać `torch.nn` i nie wykorzystywać gotowych warstw sieci tylko samemu implementować operacje na tensorach:\r\n",
        "\r\n",
        "```\r\n",
        "class Perceptron(nn.Module):\r\n",
        "    def __init__(self, in_dim: int, out_dim: int):\r\n",
        "        super().__init__()\r\n",
        "        self.weights = nn.Parameter(\r\n",
        "          torch.randn(in_dim, out_dim) / math.sqrt(in_dim)\r\n",
        "        )\r\n",
        "        self.bias = nn.Parameter(torch.zeros(out_dim))\r\n",
        "\r\n",
        "    def forward(self, xb: torch.Tensor):\r\n",
        "        return xb @ self.weights + self.bias\r\n",
        "```\r\n",
        "***Przetestuj*** poprawność swojej implementacji."
      ]
    },
    {
      "cell_type": "code",
      "metadata": {
        "id": "g3OrIHg-82v5"
      },
      "source": [
        "model = Perceptron().cuda()\r\n",
        "y_pred_0 = model(X_train[0])\r\n",
        "print(y_pred_0)\r\n",
        "\r\n",
        "assert isinstance(y_pred_0, torch.cuda.FloatTensor)\r\n",
        "assert len(y_pred_0) == 3"
      ],
      "execution_count": null,
      "outputs": []
    },
    {
      "cell_type": "markdown",
      "metadata": {
        "id": "sdodFGsV_EMR"
      },
      "source": [
        "Wykorzystanie `nn.Linear` nie tylko odciążyło nas z implementacji operacji na tensorasch, ale także z inicjalizacji paprametrów modelu - inicjalizacja parametrów jest domyślnie implementowana przez daną wartstwę. Jeżeli uruchomisz powyższy kod wielokrotnie to zauważysz, że za każdym razem otrzymujesz inny tensor wyjściowy. Wynika to z tego, że początkowe parametry modelu są domyślnie **losowane**. Oznacza to, że proces uczenia będzie **niedeterministryczny** - każde uruchomienie da inny wynik parametrów, które model się nauczy.\r\n",
        "\r\n",
        "Pozostało jeszcze dodanie nieliniowej transformacji do sieci, ale nie będziemy tego robić. Dodatkowo zamiast tworzyć osobny klasifikator na klasę, zastosujemy jeden klasyfikator. W tym celu zmieniemy funkcję kosztu. Do klasyfikacji wieloklasowej wykorzystamy funkcję **straty krzyżowej entropii**.\r\n",
        "\r\n",
        "$\\text{loss} = -\\frac{1}{N}\\sum_{i}^{N}\\log(\\text{softmax}(x_{i}){y_{i}}) $, gdzie $N$ oznacza liczbę przypadków, $x_{i}$ wyjście z ostatniej warstwy $i$-tej instancji, $y_{i}$ klasę $i$-tej instancji.\r\n",
        "\r\n",
        "**Softmax** jest przekstałceniem nielinowym powszechnie używanym jako ostatnia warstwa sieci neuronowej służącej do klasyfikacji. Jej mocną stroną jest to, że suma wszystkich elementów tensora będących na jej wyjściu wynosi $1$. Dzięki temu możemy wyjście sieci interpretować jako przypisanie pseudoprawdopodbieństwa dla klasyfikacji dla danej próbki.\r\n",
        "\r\n",
        "Dla danego wektora $\\mathbf x = (x_1, x_2, \\ldots, x_i, \\ldots, x_C)$ funkcja Softmax jest zdefiniowana jako:\r\n",
        "$\\text{Softmax}(x_{i}) = \\frac{\\exp(x_{i})}{\\sum_{j}^{C} \\exp(x_{j})}$, gdzie $C$ oznacza liczbę klas.\r\n",
        "\r\n",
        "W tym zadaniu nie będziemy implementować tych funkcji samemu tylko wykorzystamy gotową implementację w bibliotece torch. Implementację znajdziemy w [`torch.nn.CrossEntropyLoss`](https://pytorch.org/docs/stable/generated/torch.nn.CrossEntropyLoss.html). Przyjmuje ona \"surowe\" wartości, dlatego że oblicza również funkcję **LogSoftmax**. Alternatywnie możemy nałożyć funkcję aktywacji LogSoftmax z modułu [`torch.nn.LogSoftmax`](https://pytorch.org/docs/stable/generated/torch.nn.LogSoftmax.html) i obliczyć negatywny logarytm funkcji wiarygodności (ang. *negative log likelihood*) [`torch.nn.NLLLoss`](https://pytorch.org/docs/stable/generated/torch.nn.NLLLoss.html#torch.nn.NLLLoss). `torch.nn.NLLLoss` nie wykonuje operacji logarytmowania tylko oczekuje zlogarytmowanego wejścia.\r\n",
        "\r\n",
        "**LogSoftmax** wykorzystany jest tutaj nieprzypadkowo. Funkcja softmax w oryginalnej postaci nie jest odparna na wystąpienie niestabilności numerycznych. W przypadku liczenia entropii krzyżowej możemy wykorzystać skalę logarytmiczną do przeprowadzenia operacji. Dzięki przenesieniu obliczania logarytmu do funkcji Softmax możemy zastąpić dzielenie na różnicę logarytmów. czyli zamiast powyższej definicji funkcja LogSoftmax przyjmuję następującą postać:\r\n",
        "\r\n",
        "$\\text{LogSoftmax}(x_{i}) = x_{i} - log \\bigg({\\sum_{j}^{C} \\exp(x_{j})}\\bigg)$\r\n",
        "\r\n",
        "Dodatkowo stosowany jest także trik polegający na zastąpieniu operacji $log \\bigg({\\sum_{j}^{C} \\exp(x_{j})}\\bigg)$ operacją **LogSumExp**, zdefiniowaną jako\r\n",
        "\r\n",
        "$\\text{LogSumExp}(\\mathbf x) = \\max(\\mathbf x) + log \\bigg({\\sum_{j}^{C} \\exp(x_{j} - \\max(\\mathbf x))}\\bigg)$.\r\n",
        "\r\n",
        "Pozwala to pozbyć się dużych wartości $x_{j}$ podczas obliczania $\\exp$.\r\n",
        "\r\n"
      ]
    },
    {
      "cell_type": "markdown",
      "metadata": {
        "id": "S5hwoYUOMCE7"
      },
      "source": [
        "## Algorytmy online i offline (`DataLoader`)\r\n",
        "\r\n",
        "Na poprzednich zajęciach zaimplementowałaś(eś) **algorytm offline** (alternatywnie batchowy lub deterministyczny, ang. *offline*, *batch*, *deterministic*) tzn. taki, który przetwarza od razu wszystkie dane. Jednakże implementując sieci neuronowe tworzymy często algorytmy **online** (alternatywnie stochastyczne, ang. *online*, *stochastic*), które przetwarzają dane w \"kawałkach\" lub wręcz mogą dostawać je \"na bieżąco\" bez konieczności posiadania wszystkcih danych przed uruchomieniem algorytmu. Są różne powody, dla których tak się robi, ale najczęstrzy jest taki, że przy głębszych architektrurach i bardziej złożonych obiektach (np. obrazach) byłoby fizycznie nie możliwe pomieścić te wszystkie dane w pamięci RAM lub VRAM (RAM na GPU) wraz z parametrami modelu.\r\n",
        "\r\n",
        "Liczbę próbek w algorytmach stochastycznych w sieciach neuronowych określa się jako **minibatch size** lub po prostu **batch size**. Przy czym określenie *batch size* nie odnosi się tutaj do algorytmów batchowych (operujących na całym zbiorze danych), tylko do algorytmów online/minibatch. Po prostu *batch size* jest określeniem krótszym (ale mniej poprawnym) niż *minibatch size*, stąd też powszechnie używa się tego pierwszego. Z tego też powodu czasami niektórzy używają określenia *batch* na *minibatch* - warto mieć to na uwadze przy komunikowaniu się z innymi osobami.\r\n",
        "\r\n",
        "Do zaimplementowania minibatchy wykorzystamy [`torch.utils.data.DataLoader`](https://pytorch.org/docs/stable/data.html#torch.utils.data.DataLoader). ***Zaimplementuj*** funkcję `to_dataloader`, która `X_train` i `y_train` oraz `X_test` i `y_test` umieści w dwóch osobnych instancjach klasy `DataLoader` z wielkością minibatacha równą `batch_size`"
      ]
    },
    {
      "cell_type": "code",
      "metadata": {
        "id": "ni_A2b6nQHTX"
      },
      "source": [
        "def to_dataloader(\r\n",
        "    X_train: torch.Tensor, \r\n",
        "    y_train: torch.Tensor, \r\n",
        "    X_test: torch.Tensor, \r\n",
        "    y_test: torch.Tensor, \r\n",
        "    batch_size: int = 32\r\n",
        ") -> Tuple[DataLoader, DataLoader]:\r\n",
        "    train_ds = TensorDataset(___, ___, shuffle=True)\r\n",
        "    train_dl = DataLoader(___, batch_size=___)\r\n",
        "\r\n",
        "    test_ds = TensorDataset(___, ___)\r\n",
        "    test_dl = DataLoader(___, batch_size=___)\r\n",
        "\r\n",
        "    return train_dl, test_dl"
      ],
      "execution_count": null,
      "outputs": []
    },
    {
      "cell_type": "markdown",
      "metadata": {
        "id": "LaPQq3iKXPJ-"
      },
      "source": [
        "***Przetestuj*** implementację"
      ]
    },
    {
      "cell_type": "code",
      "metadata": {
        "id": "m6LRNS6sWWA2"
      },
      "source": [
        "train_loader, test_loader = to_dataloader(\r\n",
        "    X_train=X_train,  y_train=y_train, \r\n",
        "    X_test=X_test, y_test=y_test, \r\n",
        "    batch_size=32\r\n",
        ")\r\n",
        "\r\n",
        "for sample in test_loader:\r\n",
        "    print(sample)"
      ],
      "execution_count": null,
      "outputs": []
    },
    {
      "cell_type": "markdown",
      "metadata": {
        "id": "B7yYkPUtxcaJ"
      },
      "source": [
        "## Ewaluacja modelu - metryki\r\n",
        "\r\n",
        "***Zaimplementuj*** funkcję `validate`, które dla danego modelu, funkcji straty i loadera zwróci średnią wartość funkcji straty oraz dokładność (ang. *accuracy*) dla danych z `dataloader`."
      ]
    },
    {
      "cell_type": "code",
      "metadata": {
        "id": "5iCngT3Ctn-e"
      },
      "source": [
        "def count_correct(\r\n",
        "    y_pred: torch.Tensor, y_true: torch.Tensor\r\n",
        ") -> torch.Tensor:\r\n",
        "    preds = torch.argmax(y_pred, dim=1)\r\n",
        "    return (___ == ___).float().sum()\r\n",
        "\r\n",
        "def validate(\r\n",
        "    model: nn.Module, \r\n",
        "    loss_fn: torch.nn.CrossEntropyLoss, \r\n",
        "    dataloader: DataLoader\r\n",
        ") -> Tuple[torch.Tensor, torch.Tensor]:\r\n",
        "    loss = 0\r\n",
        "    correct = 0\r\n",
        "    all = 0\r\n",
        "    for X_batch, y_batch in dataloader:\r\n",
        "        y_pred = ___\r\n",
        "        all += len(y_pred)\r\n",
        "        loss += loss_fn(y_pred, y_batch).sum()\r\n",
        "        correct += count_correct(y_pred, y_batch)\r\n",
        "    return loss / all, correct / all\r\n"
      ],
      "execution_count": null,
      "outputs": []
    },
    {
      "cell_type": "markdown",
      "metadata": {
        "id": "sZgBH3lxF2l5"
      },
      "source": [
        "***Przetestuj*** swoją implementację"
      ]
    },
    {
      "cell_type": "code",
      "metadata": {
        "id": "X0W8GaaNvoFC"
      },
      "source": [
        "loss_fn = torch.nn.CrossEntropyLoss()\r\n",
        "val_train, acc_train = validate(model, loss_fn, test_loader)\r\n",
        "print(val_train, acc_train)"
      ],
      "execution_count": null,
      "outputs": []
    },
    {
      "cell_type": "markdown",
      "metadata": {
        "id": "l6Me2ep7HFC-"
      },
      "source": [
        "## Uczenie\r\n",
        "\r\n",
        "Przed uzupełnieniem poniżej implementacji została nam jeszcze jedna istotna kwestia do poruszenia. Otóż dot tej pory aktualizację parametrów dokonywaliśmy wg prostej formuły - mnożyliśmy gradienty przez współczynnik uczenia (ang. *learning rate*) i odejmowalismy od parametrów. Jednakże do uczenia sieci neuronowych sotsujemy często optymalizatory (ang. *optimiser*), które mogą implementować różne podejścia do uakualiniania parameterów modelu. Wykorzystamy tutaj algorytm **Adam** (ang. *adaptive moment estimation*), który dostosowuje współczynnik uczenia do poszczególnych parametrów i jest często optimizatorem pierwszego wyboru.\r\n",
        "\r\n",
        "***Uzupełnij i przetestuj*** poniższą implementację uczenia modelu. Porównaj jej skuteczność z tą, którą zaimplementowałeś(aś) na laboratorium 2."
      ]
    },
    {
      "cell_type": "code",
      "metadata": {
        "id": "Enlx7Cr33frK"
      },
      "source": [
        "def fit(\r\n",
        "    model: nn.Module, optimiser: optim.Optimizer, \r\n",
        "    loss_fn: torch.nn.CrossEntropyLoss, train_dl: DataLoader, \r\n",
        "    val_dl: DataLoader, epochs: int, \r\n",
        "    print_metrics: str = True\r\n",
        "):\r\n",
        "    for epoch in range(epochs):\r\n",
        "        for X_batch, y_batch in train_dl:\r\n",
        "            y_pred = model(___) # Uzyskanie pseudoprawdopodobieństw dla próbek z minibatcha\r\n",
        "            loss = ___ # Policzenie funkcji straty\r\n",
        "\r\n",
        "            loss.___() # Wsteczna propagacja z wyniku funkcji straty - policzenie gradientów i zapisanie ich w tensorach (parametrach)\r\n",
        "            optimiser.step() # Aktualizacja parametrów modelu przez optymalizator na podstawie gradientów zapisanych w tensorach (parametrach) oraz lr\r\n",
        "            optimiser.zero_grad() # Wyzerowanie gradientów w modelu, alternatywnie można wywołać percepron.zero_grad()\r\n",
        "        \r\n",
        "        if print_metrics: \r\n",
        "            model.eval() # Przełączenie na tryb ewaluacji modelu - istotne dla takich warstw jak Dropuot czy BatchNorm\r\n",
        "            with torch.no_grad():  # Wstrzymujemy przeliczanie i śledzenie gradientów dla tensorów - w procesie ewaluacji modelu nie chcemy zmian w gradientach\r\n",
        "                train_loss, train_acc = validate(___)\r\n",
        "                val_loss, val_acc = validate(___)\r\n",
        "                print(\r\n",
        "                    f\"Epoch {epoch}: \"\r\n",
        "                    f\"train loss = {train_loss:.3f} (acc: {train_acc:.3f}), \"\r\n",
        "                    f\"validation loss = {val_loss:.3f} (acc: {val_acc:.3f})\"\r\n",
        "                )       \r\n",
        "      \r\n",
        "    model.eval() # Przełączenie na tryb ewaluacji modelu - istotne dla takich warstw jak Dropuot czy BatchNorm\r\n",
        "\r\n",
        "train_dl, test_dl = to_dataloader(\r\n",
        "    X_train=X_train, \r\n",
        "    y_train=y_train, \r\n",
        "    X_test=X_test, \r\n",
        "    y_test=y_test, \r\n",
        "    batch_size=32\r\n",
        ")\r\n",
        "perceptron = Perceptron().cuda()\r\n",
        "optimiser = optim.Adam(perceptron.parameters(), lr=0.001)\r\n",
        "loss_fn = torch.nn.CrossEntropyLoss()\r\n",
        "fit(\r\n",
        "    model=perceptron, optimiser=optimiser, loss_fn=loss_fn, \r\n",
        "    train_dl=train_dl, val_dl=test_dl, epochs=50\r\n",
        ")"
      ],
      "execution_count": null,
      "outputs": []
    },
    {
      "cell_type": "markdown",
      "metadata": {
        "id": "hVkTsruIBaBa"
      },
      "source": [
        "***Uzupełnij*** funkcję `fit`, aby ta mogła logować metryki (*loss*, *accuracy*) per epokę. Po zebraniu historii uczenia ***przedstaw*** następujące wykresy:\n",
        "- Wykres wartości funkcji kosztu w zależności od epoki uczenia dla zbioru uczącego i testowego\n",
        "- Wykres wartości metryki *accuracy* w zależności od epoki uczenia dla zbioru uczącego i testowego \n",
        "\n",
        "Metryki dla obu zbiorów przedstaw na jednym wykresie jako serie. ***Uzupełnij*** etykiety osi i tytuły wykresów."
      ]
    },
    {
      "cell_type": "markdown",
      "metadata": {
        "id": "E_eBwlwF6siY"
      },
      "source": [
        "***Popraw*** model, tak aby otrzymać dokładność na zbiorze testowym wynoszącą co najmniej 90%. W tym celu dobierz odpowiedni współczynnik uczenia i liczbę epok. \n",
        "Do porównania badanych hiperparametrów użyj zbioru walidacyjnego. Podziel zbiór testowy na dwie równe części, jeden który będzie służyć do walidacji hiperparametrów, a drugi, który będzie służył do ewaluacji znalezionej najlepszej pary hiperparametrów. W tym celu możesz wykorzystać funkcję `torch.utils.data.random_split` z ustawionym parametrem `generator=torch.Generator().manual_seed(1)`. Przedstaw równiez wykresy o których mowa punkcie powyżej tym razem z uwzględniem trzech zbiorów (uczącego, walidacyjnego i testowego)"
      ]
    }
  ]
}