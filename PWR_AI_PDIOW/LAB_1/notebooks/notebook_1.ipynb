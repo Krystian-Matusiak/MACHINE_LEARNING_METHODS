{
 "cells": [
  {
   "cell_type": "markdown",
   "id": "5b0324c6",
   "metadata": {},
   "source": [
    "249460"
   ]
  },
  {
   "cell_type": "code",
   "execution_count": 1,
   "id": "bed21a9d-ce06-4f95-b24c-924fd08f3661",
   "metadata": {},
   "outputs": [],
   "source": [
    "import sys, os\n",
    "\n",
    "sys.path.append(\"/app\")\n",
    "import src.utils\n"
   ]
  },
  {
   "cell_type": "code",
   "execution_count": 3,
   "id": "c5e6728b",
   "metadata": {},
   "outputs": [
    {
     "name": "stdout",
     "output_type": "stream",
     "text": [
      "Number 10 is positive\n",
      "Number -10 is negative\n"
     ]
    }
   ],
   "source": [
    "te = src.utils.TaskExecuter()\n",
    "\n",
    "te.check_if_positive(10)\n",
    "te.check_if_positive(-10)"
   ]
  },
  {
   "cell_type": "code",
   "execution_count": null,
   "id": "248c60d0",
   "metadata": {},
   "outputs": [],
   "source": []
  }
 ],
 "metadata": {
  "kernelspec": {
   "display_name": "Python 3 (ipykernel)",
   "language": "python",
   "name": "python3"
  },
  "language_info": {
   "codemirror_mode": {
    "name": "ipython",
    "version": 3
   },
   "file_extension": ".py",
   "mimetype": "text/x-python",
   "name": "python",
   "nbconvert_exporter": "python",
   "pygments_lexer": "ipython3",
   "version": "3.10.10"
  }
 },
 "nbformat": 4,
 "nbformat_minor": 5
}
