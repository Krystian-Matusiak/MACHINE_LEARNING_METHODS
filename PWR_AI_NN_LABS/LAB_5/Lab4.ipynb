{
 "cells": [
  {
   "cell_type": "markdown",
   "id": "b571ec1c-d8ec-40ac-ab73-b451d533cbcb",
   "metadata": {},
   "source": [
    "# Sieci neuronowe 1 - LAB\n",
    "\n",
    "    prowadzący: Monika Wasilewska\n",
    "    Politechnika Wrocławska, Katedra Akustyki, Multimediów i Przetwarzania Sygnałów\n",
    "    \n",
    "\n",
    "Run a cell via `Shift + Return`. Learn more about [CoCalc Jupyter Notebooks](https://doc.cocalc.com/jupyter.html)."
   ]
  },
  {
   "cell_type": "markdown",
   "id": "6008bdc0-aab5-4a5b-8e66-59ee614d179f",
   "metadata": {},
   "source": [
    "---\n",
    "Plan zajęć:\n",
    "---\n",
    "1. Warstwy w sieciach neuronowych.\n",
    "2. Budowa modelu\n",
    "3. Podział danych na treningowe i testowe.\n",
    "3. Ocena modelu\n",
    "---"
   ]
  },
  {
   "cell_type": "code",
   "execution_count": 2,
   "id": "157497e8-d2de-4055-8058-bdfdc800ec87",
   "metadata": {},
   "outputs": [],
   "source": [
    "import numpy as np\n",
    "import tensorflow as tf\n",
    "\n",
    "from tensorflow.keras import datasets, layers, models\n",
    "import matplotlib.pyplot as plt"
   ]
  },
  {
   "cell_type": "markdown",
   "id": "01465c61-087d-4a24-8850-3621a9e37eba",
   "metadata": {},
   "source": [
    "# Zadanie 1\n",
    "Wczytaj bazę danych `CIFAR10`. Sprawdź wartości z których składają się obrazki, jeśli to konieczne dokonaj normalizacji.  "
   ]
  },
  {
   "cell_type": "code",
   "execution_count": 1,
   "id": "8cce24ac-8f34-45e3-8b7a-d9ad66ce448f",
   "metadata": {},
   "outputs": [],
   "source": [
    "(train_images, train_labels), (test_images, test_labels) = datasets.cifar10.load_data()"
   ]
  },
  {
   "cell_type": "code",
   "execution_count": null,
   "id": "ae102d9a-d6d9-47fe-bde3-5db74325219c",
   "metadata": {},
   "outputs": [],
   "source": []
  },
  {
   "cell_type": "markdown",
   "id": "16991e15-7e46-4b8e-9f9d-66ecc8a16afe",
   "metadata": {},
   "source": [
    "# Zadanie 2\n",
    "Zakoduj etykiety jako `one-hot` korzystając z metody poznanej wcześniej na zajęciach, a zdefiniowanej w tensorflow."
   ]
  },
  {
   "cell_type": "code",
   "execution_count": 3,
   "id": "dc33bb14-ce37-40dc-bd43-1bc37dde2e82",
   "metadata": {},
   "outputs": [],
   "source": [
    "\n",
    "\n",
    "\n"
   ]
  },
  {
   "cell_type": "markdown",
   "id": "37f180ac-45f2-4e8d-902b-6ff0cb80cae9",
   "metadata": {},
   "source": [
    "# Zadanie 3\n",
    "Stwórzmy model sieci za pomocą zaimportowanego wcześniej `tensorflow.keras.models.Sequential`. Model, który będzie przez nas wykorzystywany będzie modelem konwolucyjnym i został zdefiniowany poniżej. \n",
    "\n",
    "1. Wyświetl informacje o modelu.\n",
    "\n",
    "2. Korzystając z wyświetlonego opisu oraz dokumentacji wypisz parametry modelu takie jak wielkość jądra w każdej z warstw, wykorzystane funkcje aktywacji oraz wielkości wyjścia po każdej z warstw. Wyjaśnij do czego służy `Flatten` czy jest warstwą uczącą się oraz dlaczego ostatnia warstwa ma 10 neuronów."
   ]
  },
  {
   "cell_type": "code",
   "execution_count": 3,
   "id": "93ec3eb8-8526-459b-ac98-6dcad1a961c3",
   "metadata": {},
   "outputs": [],
   "source": [
    "model = models.Sequential()\n",
    "model.add(layers.Conv2D(20, (3, 3), activation='relu', input_shape=(32, 32, 3)))\n",
    "model.add(layers.MaxPooling2D((2, 2)))\n",
    "model.add(layers.Conv2D(30, (3, 3), activation='relu'))\n",
    "model.add(layers.MaxPooling2D((2, 2)))\n",
    "model.add(layers.Conv2D(40, (3, 3), activation='relu'))\n",
    "\n",
    "model.add(layers.Flatten())\n",
    "model.add(layers.Dense(64, activation='relu'))\n",
    "model.add(layers.Dense(10, activation=\"softmax\"))\n",
    "\n",
    "model.compile(optimizer='adam',\n",
    "              loss=tf.keras.losses.categorical_crossentropy,\n",
    "              metrics=['accuracy'])"
   ]
  },
  {
   "cell_type": "code",
   "execution_count": null,
   "id": "92fa791c-7ac1-4c63-bcb6-ffc2d59526e4",
   "metadata": {},
   "outputs": [],
   "source": [
    "# tutaj wyswietl informacje o modelu (3.1)\n",
    "\n",
    "\n",
    "\n"
   ]
  },
  {
   "cell_type": "markdown",
   "id": "933fb94e-46a3-4b98-ab3d-2d5012b58e35",
   "metadata": {},
   "source": [
    "Tutaj opisz model (3.2)\n",
    " - Pierwsza warstwa ma ___ filtrów, a jądro splotu ma wymiar ___\n",
    " - ...\n",
    " - ...\n",
    "...\n"
   ]
  },
  {
   "cell_type": "markdown",
   "id": "077e6bbc-ed20-4a00-ab03-9dc4e0161220",
   "metadata": {},
   "source": [
    "# Zadanie 4\n",
    "Nauczmy (choć odrobinę) nasz model! Wykorzystaj do tego funkcję `fit`, a jej wyjście zapisz do zmiennej `history`. Aby nie czekać zbyt długo użyjmy 5 epok. Jaki rozmiar `minibatacha` wybierzesz? Korzystając z dokumentacji jak i wiedzy zdobytej na wykładzie wybierz jego rozmiar i uzasadnij wybór."
   ]
  },
  {
   "cell_type": "code",
   "execution_count": null,
   "id": "c7c0f07a-9c50-48bf-96bf-cb6a8e8329ee",
   "metadata": {},
   "outputs": [],
   "source": [
    "# uczymy model\n",
    "\n",
    "\n",
    "\n"
   ]
  },
  {
   "cell_type": "markdown",
   "id": "3cdd3134-93eb-4efc-abcd-0099eec3ba67",
   "metadata": {},
   "source": [
    "**Uzupełnij**:\" `minibatch` w moim programie ma rozmiar ___ , ponieważ ___"
   ]
  },
  {
   "cell_type": "markdown",
   "id": "c685c3d6-0538-41e2-8312-04b34e81da62",
   "metadata": {},
   "source": [
    "# Zadanie 5\n",
    "\n",
    "Wykorzystajmy kroswalidację. Podzielmy zbiór danych na 10 podzbiorów - w każdej z epok będziemy wykorzystywać 8 podzbiorów do uczenia, a 2 do testowania. \n",
    "\n",
    "Wskazówka: O co musisz zadbać w każdym z podzbiorów? Czy możemy podzielić dowolnie zbiór? Jaki rozkład klas powinien być w każdym podzbiorze? "
   ]
  },
  {
   "cell_type": "code",
   "execution_count": null,
   "id": "b757cdb5-c35f-4b8b-a618-b7c8bb7c3166",
   "metadata": {},
   "outputs": [],
   "source": []
  },
  {
   "cell_type": "markdown",
   "id": "9f5b49c6-c09c-4206-a0ad-ef9911ff1178",
   "metadata": {},
   "source": []
  },
  {
   "cell_type": "markdown",
   "id": "52018d81-e106-4ecb-8d98-b2064ac6648f",
   "metadata": {},
   "source": [
    "---"
   ]
  },
  {
   "cell_type": "markdown",
   "id": "73164c03-1792-4e4d-a04a-842e852e2dfd",
   "metadata": {},
   "source": [
    "# Zadanie 6\n",
    "\n",
    "Nauczmy model wykorzystując sprawdzian krzyżowy (kroswalidację). Wykorzystajmy metodę `fit` w pętli `for`. W każdeym przebiegu pętli liczbę epok ustawiamy na `1` i przekazujemy inne kombinacje zbiorów danych."
   ]
  },
  {
   "cell_type": "code",
   "execution_count": null,
   "id": "3b2acccc-f146-43e8-a6b2-331a627d0df1",
   "metadata": {},
   "outputs": [],
   "source": [
    "\n"
   ]
  },
  {
   "cell_type": "markdown",
   "id": "5dbd46c6-01cb-4795-a3f9-bf481ebf30da",
   "metadata": {},
   "source": [
    "# Zadanie 7\n",
    "Wykorzystaj swoją sieć do obliczenia klas w zbiorze testowym wczytanym oryginalnie z CIFAR10. Wykorzystaj metodę `predict` dla swojego moedlu, a następnie `argmax` z pakietu numpy, aby zwrócić numer klasy do której przyporządkowany został testowany przykład."
   ]
  },
  {
   "cell_type": "code",
   "execution_count": null,
   "id": "85ec1abe-8c3b-4002-a41c-8f91c6ed3e32",
   "metadata": {},
   "outputs": [],
   "source": []
  },
  {
   "cell_type": "code",
   "execution_count": null,
   "id": "cc5f956d-9fc4-4f0e-b9b8-e468a3c54719",
   "metadata": {},
   "outputs": [],
   "source": []
  },
  {
   "cell_type": "markdown",
   "id": "3fb7105f-9c1e-4f66-9480-abad0f30db91",
   "metadata": {},
   "source": [
    "# Zadanie 8\n",
    "Wykorzytując wiedzę zdobytą na Uczeniu Maszynowym wyrysuj *macierz pomyłek* częściej nazywaną *macierzą konfuzji*. Wyświetl ją dla danych wykorzystanych do treningu oraz do danych testowych."
   ]
  },
  {
   "cell_type": "code",
   "execution_count": null,
   "id": "038c7b97-8277-45db-b9b6-469ef21160e4",
   "metadata": {},
   "outputs": [],
   "source": []
  },
  {
   "cell_type": "code",
   "execution_count": null,
   "id": "178ae4bc-6d9e-449b-9dff-e8047a7c0e0c",
   "metadata": {},
   "outputs": [],
   "source": []
  },
  {
   "cell_type": "markdown",
   "id": "a9583901-2ab9-4139-aea4-07d361509406",
   "metadata": {},
   "source": [
    "# Zadanie 9 - w ramach ćwiczeń domowych\n",
    "\n",
    "Przetrenuj swój model wykorzystując:\n",
    " 1. Większą liczbę epok oraz dodatkowe przetwarzanie obrazka (np. obrót, przybliżenie) (50)\n",
    " 2. obrazek podany w skali szarości"
   ]
  },
  {
   "cell_type": "code",
   "execution_count": null,
   "id": "03e79cee-1612-4e9b-9a7d-19e57fe3af6c",
   "metadata": {},
   "outputs": [],
   "source": []
  },
  {
   "cell_type": "markdown",
   "id": "075c0f9f-7576-459f-a7c3-eb1ce9a05024",
   "metadata": {},
   "source": [
    "---"
   ]
  }
 ],
 "metadata": {
  "kernelspec": {
   "display_name": "Python 3",
   "language": "python",
   "name": "python3"
  },
  "language_info": {
   "codemirror_mode": {
    "name": "ipython",
    "version": 3
   },
   "file_extension": ".py",
   "mimetype": "text/x-python",
   "name": "python",
   "nbconvert_exporter": "python",
   "pygments_lexer": "ipython3",
   "version": "3.8.12"
  }
 },
 "nbformat": 4,
 "nbformat_minor": 5
}
