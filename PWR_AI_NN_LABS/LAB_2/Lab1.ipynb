{
 "cells": [
  {
   "cell_type": "markdown",
   "id": "b571ec1c-d8ec-40ac-ab73-b451d533cbcb",
   "metadata": {},
   "source": [
    "# Sieci neuronowe 1 - LAB\n",
    "\n",
    "    prowadzący: Monika Wasilewska\n",
    "    Politechnika Wrocławska, Katedra Akustyki, Multimediów i Przetwarzania Sygnałów\n",
    "    \n",
    "\n",
    "Run a cell via `Shift + Return`. Learn more about [CoCalc Jupyter Notebooks](https://doc.cocalc.com/jupyter.html)."
   ]
  },
  {
   "cell_type": "markdown",
   "id": "6008bdc0-aab5-4a5b-8e66-59ee614d179f",
   "metadata": {},
   "source": [
    "---\n",
    "Plan zajęć:\n",
    "---\n",
    "\n",
    "1. Wczytywanie i wyświetlanie obrazów.\n",
    "2. Wstępne przetwarzanie i analiza:\n",
    "    - analiza histogramów, \n",
    "    - obrót obrazu,\n",
    "    - normalizacja,\n",
    "    - wyrównanie histogramu,\n",
    "    - różne metody przejścia do skali szarości.|\n",
    "3. Wczytanie bazy danych. Obsługa danych wejściowych oraz etykiet.\n",
    "4. Analiza struktury bazy oraz etykiet.\n",
    "5. Wektoryzacja danych.\n",
    "6. Kodowanie \"one-hot\", konwersja etykiet.\n",
    "7. Inne typy daych - wczytanie dodatkowej bazy. Analiza wartości, normalizacja.\n",
    "---"
   ]
  },
  {
   "cell_type": "markdown",
   "id": "0eea2e59-a7c8-430e-a0bc-608700fe60fc",
   "metadata": {},
   "source": [
    "## Zadanie 1\n",
    "\n",
    "Wczytaj obrazek dołączony do katalogu Lab_1, a następnie go wyświetl, wykorzystaj do tego metodę `imread()` oraz `imshow()`. Sprawdź jgo rozmiar. "
   ]
  },
  {
   "cell_type": "code",
   "execution_count": 2,
   "id": "e9c63a68-39d6-4b49-a6bd-eefd169671d4",
   "metadata": {},
   "outputs": [],
   "source": [
    "import matplotlib.pyplot as plt\n",
    "import matplotlib.image as mpimg\n",
    "import numpy as np\n",
    "\n",
    "\n",
    "\n",
    "\n",
    "\n",
    "\n",
    "\n",
    "\n"
   ]
  },
  {
   "cell_type": "markdown",
   "id": "e90a9c9d-b6e0-4053-aca0-b1b76972e50b",
   "metadata": {},
   "source": [
    "Rozmiar obrazka to: `... x ... x ... x`, co oznacza:  `wysokość/szerokość/liczba kanałów x wysokość/szerokość/liczba kanałów x wysokość/szerokość/liczba kanałów`"
   ]
  },
  {
   "cell_type": "markdown",
   "id": "ab2c7bac-3a88-495a-a32d-7ac83501112e",
   "metadata": {},
   "source": [
    "# Zadanie 2\n",
    "Nasz obrazek ma 3 kanały. Każdy z nich odpowiada za jedną ze skaładowych. Korzystając z `subplot` z pakietu `matplotlib` wyrysuj każdą ze składowych oddzielnie.\n",
    "Opcja: wybierz odpowiednią paletę barw do każdego z nich."
   ]
  },
  {
   "cell_type": "code",
   "execution_count": null,
   "id": "803ea515-a54c-4d98-b171-ab619acd1ce1",
   "metadata": {},
   "outputs": [],
   "source": []
  },
  {
   "cell_type": "markdown",
   "id": "63d5e050-537c-4c9d-93d2-d6a1b8558d5c",
   "metadata": {},
   "source": [
    "## Zadanie 3\n",
    "\n",
    "Napisz dwie funkcje, które pozwolą na przeniesienie kolorowego obrazka do sklai szarości. W pierwszej niech kazdy kolor będzie równie istotny, w drugiej proporcje niech wynoszą: $x = 0.299R + 0.587G + 0.114B$. Przetestuj na wcześniej wczytanym obrazku, wyświetl rezultaty i porównaj efekt. "
   ]
  },
  {
   "cell_type": "code",
   "execution_count": null,
   "id": "1df3420f-0816-47d4-ae21-5e6e7f3ae17e",
   "metadata": {},
   "outputs": [],
   "source": []
  },
  {
   "cell_type": "code",
   "execution_count": null,
   "id": "f6d0829b-1bed-4099-8fdf-28173342e641",
   "metadata": {},
   "outputs": [],
   "source": []
  },
  {
   "cell_type": "code",
   "execution_count": null,
   "id": "f85a8829-c51e-457f-8fe2-b18975972f81",
   "metadata": {},
   "outputs": [],
   "source": []
  },
  {
   "cell_type": "markdown",
   "id": "7c472413-3055-4b6e-936c-643137ab1664",
   "metadata": {},
   "source": [
    "## Zadanie 4\n",
    "\n",
    "Napisz funkcję, która pozwoli na normalizację przekazanego obrazka. Przetestuj ją na wczytanym obrazku oraz tym w skali szarości."
   ]
  },
  {
   "cell_type": "code",
   "execution_count": null,
   "id": "5ec2903d-b355-47a8-a5a4-ca42f111664d",
   "metadata": {},
   "outputs": [],
   "source": []
  },
  {
   "cell_type": "code",
   "execution_count": null,
   "id": "a2ca0f9f-2ef9-4b41-af85-30bf730ae99a",
   "metadata": {},
   "outputs": [],
   "source": []
  },
  {
   "cell_type": "markdown",
   "id": "a9fc0995-800a-4e66-984a-95cc63f386aa",
   "metadata": {},
   "source": [
    "## Zadanie 5\n",
    "Narysuj histogram dla każdej z barw pierwotnie wczytanego obrazka. Czy rozkłady sa równomierne?"
   ]
  },
  {
   "cell_type": "code",
   "execution_count": null,
   "id": "287f96fa-4403-4833-b6d3-ab24fe12c37b",
   "metadata": {},
   "outputs": [],
   "source": []
  },
  {
   "cell_type": "code",
   "execution_count": null,
   "id": "3a21351d-0f59-45e2-ae86-bad1ebf2af5d",
   "metadata": {},
   "outputs": [],
   "source": []
  },
  {
   "cell_type": "markdown",
   "id": "f6697362-e5c4-4320-986c-174b3a0a73e3",
   "metadata": {},
   "source": [
    "## Zadanie 6 (`*`)\n",
    "Sprawdź w jaki sposób wyrównać histogram. Przeanalizuj nowe wyglady histogramów. Kiedy ta operacja może być szczególnie potrzebna?\n"
   ]
  },
  {
   "cell_type": "code",
   "execution_count": null,
   "id": "349b4037-968e-496e-8835-3d96a6e9589c",
   "metadata": {},
   "outputs": [],
   "source": []
  },
  {
   "cell_type": "code",
   "execution_count": null,
   "id": "da637840-6a51-432c-a274-9f3c8c0acd8a",
   "metadata": {},
   "outputs": [],
   "source": []
  },
  {
   "cell_type": "markdown",
   "id": "c862613f-c408-468c-8a06-a58f93a823ec",
   "metadata": {},
   "source": [
    "## Zadanie 7\n",
    "Za pomocą metody `rotate` z `scipy.ndimage` obróć obrazek. Sprawdź dokumentację, co będzie efektem działania? (Oryginany zmieniony obrazek, kopia obrazka, czy zostanie coś zwrócone)"
   ]
  },
  {
   "cell_type": "code",
   "execution_count": null,
   "id": "41ea5203-7fe7-4906-85e2-9e797fed10bc",
   "metadata": {},
   "outputs": [],
   "source": [
    "import scipy.ndimage as ndimage\n",
    "\n",
    "\n",
    "\n",
    "\n"
   ]
  },
  {
   "cell_type": "markdown",
   "id": "01465c61-087d-4a24-8850-3621a9e37eba",
   "metadata": {},
   "source": [
    "# Zadanie 8\n",
    "Wejście do sieci MLP jest jednowymiarowe, wobec czego musimy \"spłaszczyć\" nasz obrazek. Napisz funkcję która zwróci zwektoryzowany obrazek. Przetestuj czy działa poprawnie."
   ]
  },
  {
   "cell_type": "code",
   "execution_count": null,
   "id": "8cce24ac-8f34-45e3-8b7a-d9ad66ce448f",
   "metadata": {},
   "outputs": [],
   "source": []
  },
  {
   "cell_type": "code",
   "execution_count": null,
   "id": "ae102d9a-d6d9-47fe-bde3-5db74325219c",
   "metadata": {},
   "outputs": [],
   "source": []
  },
  {
   "cell_type": "markdown",
   "id": "49af85e7-4ba7-4325-80ce-1fbe6da1d5d3",
   "metadata": {},
   "source": [
    "## Zadanie 9\n",
    "Zapoznaj się z informacjami o bazie danych `CIFAR-10`.\n",
    "\n",
    "[Click! CIFAR-10](https://www.cs.toronto.edu/~kriz/cifar.html)\n",
    "\n",
    "Ściągnij bazę danych (wesja Python) a następnie ją wczytaj zgodnie z instrukcją na stronie (korzystamy z wersji dla python3)"
   ]
  },
  {
   "cell_type": "code",
   "execution_count": null,
   "id": "822ca5ed-69dd-4547-8496-d365bc586c52",
   "metadata": {},
   "outputs": [],
   "source": [
    "\n",
    "\n",
    "\n"
   ]
  },
  {
   "cell_type": "markdown",
   "id": "16991e15-7e46-4b8e-9f9d-66ecc8a16afe",
   "metadata": {},
   "source": [
    "# Zadanie 10\n",
    "Wyświetl nazwy etykiet danych zapisanych w `label_names`. Wyświetl zbiór wartości etykiet zapisanych w `labels`. \n",
    "Następnie stwórz słownik konwersji nazw na numery etykiet, oraz numerów etykiet na nazwy."
   ]
  },
  {
   "cell_type": "code",
   "execution_count": null,
   "id": "dc33bb14-ce37-40dc-bd43-1bc37dde2e82",
   "metadata": {},
   "outputs": [],
   "source": []
  },
  {
   "cell_type": "markdown",
   "id": "37f180ac-45f2-4e8d-902b-6ff0cb80cae9",
   "metadata": {},
   "source": [
    "# Zadanie 11\n",
    "Wyświetl po jednym rysunku dla każdej klasy w tytule dopisując nazwę klasy. Następnie wyświetl wszystkie obrazki na jednym rysunku (wykorzystaj `subplot`)."
   ]
  },
  {
   "cell_type": "code",
   "execution_count": null,
   "id": "93ec3eb8-8526-459b-ac98-6dcad1a961c3",
   "metadata": {},
   "outputs": [],
   "source": []
  },
  {
   "cell_type": "markdown",
   "id": "077e6bbc-ed20-4a00-ab03-9dc4e0161220",
   "metadata": {},
   "source": [
    "## Zadanie 12\n",
    "\n",
    "Dokonaj preprocesingu obrazów zawartych w bazie wykorzystując poprzednio napisane funkcje. Całość zamknij w funkcji `preprocessing_images`.  "
   ]
  },
  {
   "cell_type": "code",
   "execution_count": null,
   "id": "c7c0f07a-9c50-48bf-96bf-cb6a8e8329ee",
   "metadata": {},
   "outputs": [],
   "source": []
  },
  {
   "cell_type": "code",
   "execution_count": null,
   "id": "1f683b6a-cc0b-40c7-9d2d-c221e90e66ae",
   "metadata": {},
   "outputs": [],
   "source": []
  },
  {
   "cell_type": "markdown",
   "id": "c685c3d6-0538-41e2-8312-04b34e81da62",
   "metadata": {},
   "source": [
    "## Zadanie 13\n",
    "\n",
    "Napisz metodę, która zamieni standardowe wartości etykiet na tzw. \"one-hot\".\n",
    "Przykład dla 3 klas:\n",
    "\n",
    "```Etykieta    kodowanie```\n",
    "\n",
    "        0      1 0 0\n",
    "        \n",
    "        1      0 1 0\n",
    "        \n",
    "        2      0 0 1 "
   ]
  },
  {
   "cell_type": "code",
   "execution_count": null,
   "id": "b757cdb5-c35f-4b8b-a618-b7c8bb7c3166",
   "metadata": {},
   "outputs": [],
   "source": [
    "\n",
    "\n",
    "\n"
   ]
  },
  {
   "cell_type": "code",
   "execution_count": null,
   "id": "1f5fdbcb-ff33-4f26-9b4e-20d768362778",
   "metadata": {},
   "outputs": [],
   "source": []
  },
  {
   "cell_type": "markdown",
   "id": "52018d81-e106-4ecb-8d98-b2064ac6648f",
   "metadata": {},
   "source": [
    "---"
   ]
  }
 ],
 "metadata": {
  "kernelspec": {
   "display_name": "Python 3",
   "language": "python",
   "name": "python3"
  },
  "language_info": {
   "codemirror_mode": {
    "name": "ipython",
    "version": 3
   },
   "file_extension": ".py",
   "mimetype": "text/x-python",
   "name": "python",
   "nbconvert_exporter": "python",
   "pygments_lexer": "ipython3",
   "version": "3.8.5"
  }
 },
 "nbformat": 4,
 "nbformat_minor": 5
}
