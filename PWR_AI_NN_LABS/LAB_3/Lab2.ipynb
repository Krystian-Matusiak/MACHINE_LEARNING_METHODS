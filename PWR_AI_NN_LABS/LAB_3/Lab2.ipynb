{
 "cells": [
  {
   "cell_type": "markdown",
   "id": "b571ec1c-d8ec-40ac-ab73-b451d533cbcb",
   "metadata": {},
   "source": [
    "# Sieci neuronowe 1 - LAB\n",
    "\n",
    "    prowadzący: Monika Wasilewska\n",
    "    Politechnika Wrocławska, Katedra Akustyki, Multimediów i Przetwarzania Sygnałów\n",
    "    \n",
    "\n",
    "Run a cell via `Shift + Return`. Learn more about [CoCalc Jupyter Notebooks](https://doc.cocalc.com/jupyter.html)."
   ]
  },
  {
   "cell_type": "markdown",
   "id": "6008bdc0-aab5-4a5b-8e66-59ee614d179f",
   "metadata": {},
   "source": [
    "---\n",
    "Plan zajęć:\n",
    "---\n",
    "1. Analiza struktury bazy oraz etykiet.\n",
    "2. Wektoryzacja danych.\n",
    "3. Kodowanie \"one-hot\", konwersja etykiet.\n",
    "4. Inne typy daych - wczytanie dodatkowej bazy. Analiza wartości, normalizacja.\n",
    "---"
   ]
  },
  {
   "cell_type": "markdown",
   "id": "01465c61-087d-4a24-8850-3621a9e37eba",
   "metadata": {},
   "source": [
    "# Zadanie 1\n",
    "Do pliku `preprocessing.py` skopiuj kod funkcji pozwalających na zamianę na skalę szarości, normalizację oraz wektoryzację obrazka. Pamiętaj o dołączeniu odpowiednich pakietów! Przetestuj na obrazku z poprzednich zajęć działanie funkcji."
   ]
  },
  {
   "cell_type": "code",
   "execution_count": 1,
   "id": "8cce24ac-8f34-45e3-8b7a-d9ad66ce448f",
   "metadata": {},
   "outputs": [],
   "source": [
    "from preprocesing import foo"
   ]
  },
  {
   "cell_type": "code",
   "execution_count": null,
   "id": "ae102d9a-d6d9-47fe-bde3-5db74325219c",
   "metadata": {},
   "outputs": [],
   "source": []
  },
  {
   "cell_type": "markdown",
   "id": "49af85e7-4ba7-4325-80ce-1fbe6da1d5d3",
   "metadata": {},
   "source": [
    "## Zadanie 2\n",
    "Zapoznaj się z informacjami o bazie danych `CIFAR-10`.\n",
    "\n",
    "[Click! CIFAR-10](https://www.cs.toronto.edu/~kriz/cifar.html)\n",
    "\n",
    "Ściągnij bazę danych (wesja Python) a następnie ją wczytaj zgodnie z instrukcją na stronie (korzystamy z wersji dla python3)"
   ]
  },
  {
   "cell_type": "code",
   "execution_count": null,
   "id": "822ca5ed-69dd-4547-8496-d365bc586c52",
   "metadata": {},
   "outputs": [],
   "source": [
    "\n",
    "\n",
    "\n"
   ]
  },
  {
   "cell_type": "markdown",
   "id": "16991e15-7e46-4b8e-9f9d-66ecc8a16afe",
   "metadata": {},
   "source": [
    "# Zadanie 3\n",
    "Wyświetl nazwy etykiet danych zapisanych w `label_names`. Wyświetl zbiór wartości etykiet zapisanych w `labels`. \n",
    "Następnie stwórz słownik konwersji nazw na numery etykiet, oraz numerów etykiet na nazwy."
   ]
  },
  {
   "cell_type": "code",
   "execution_count": null,
   "id": "dc33bb14-ce37-40dc-bd43-1bc37dde2e82",
   "metadata": {},
   "outputs": [],
   "source": []
  },
  {
   "cell_type": "markdown",
   "id": "37f180ac-45f2-4e8d-902b-6ff0cb80cae9",
   "metadata": {},
   "source": [
    "# Zadanie 4\n",
    "Wyświetl po jednym rysunku dla każdej klasy w tytule dopisując nazwę klasy. Następnie wyświetl wszystkie obrazki na jednym rysunku (wykorzystaj `subplot`)."
   ]
  },
  {
   "cell_type": "code",
   "execution_count": null,
   "id": "93ec3eb8-8526-459b-ac98-6dcad1a961c3",
   "metadata": {},
   "outputs": [],
   "source": []
  },
  {
   "cell_type": "markdown",
   "id": "077e6bbc-ed20-4a00-ab03-9dc4e0161220",
   "metadata": {},
   "source": [
    "## Zadanie 5\n",
    "\n",
    "Dokonaj preprocesingu obrazów zawartych w bazie wykorzystując poprzednio napisane funkcje. Całość zamknij w funkcji `preprocessing_images`.  "
   ]
  },
  {
   "cell_type": "code",
   "execution_count": null,
   "id": "c7c0f07a-9c50-48bf-96bf-cb6a8e8329ee",
   "metadata": {},
   "outputs": [],
   "source": []
  },
  {
   "cell_type": "code",
   "execution_count": null,
   "id": "1f683b6a-cc0b-40c7-9d2d-c221e90e66ae",
   "metadata": {},
   "outputs": [],
   "source": []
  },
  {
   "cell_type": "markdown",
   "id": "c685c3d6-0538-41e2-8312-04b34e81da62",
   "metadata": {},
   "source": [
    "## Zadanie 6\n",
    "\n",
    "Napisz metodę, która zamieni standardowe wartości etykiet na tzw. \"one-hot\".\n",
    "Przykład dla 3 klas:\n",
    "\n",
    "```Etykieta    kodowanie```\n",
    "\n",
    "        0      1 0 0\n",
    "        \n",
    "        1      0 1 0\n",
    "        \n",
    "        2      0 0 1 "
   ]
  },
  {
   "cell_type": "code",
   "execution_count": null,
   "id": "b757cdb5-c35f-4b8b-a618-b7c8bb7c3166",
   "metadata": {},
   "outputs": [],
   "source": [
    "\n",
    "\n",
    "\n"
   ]
  },
  {
   "cell_type": "code",
   "execution_count": null,
   "id": "991def39-8ce9-471c-8dcd-bcd29e956508",
   "metadata": {},
   "outputs": [],
   "source": []
  },
  {
   "cell_type": "code",
   "execution_count": null,
   "id": "eaac2392-e0e0-494e-b3be-765355edd589",
   "metadata": {},
   "outputs": [],
   "source": []
  },
  {
   "cell_type": "markdown",
   "id": "52018d81-e106-4ecb-8d98-b2064ac6648f",
   "metadata": {},
   "source": [
    "---"
   ]
  },
  {
   "cell_type": "markdown",
   "id": "73164c03-1792-4e4d-a04a-842e852e2dfd",
   "metadata": {},
   "source": [
    "## Zadanie 7\n",
    "\n",
    "Z `sklearn.datasets` wykorzystaj `load_breast_cancer()` do załadowania bazy danych. Zapoznaj się z danymi i informacjami o nich.\n",
    "\n",
    "[CLICK!](https://scikit-learn.org/stable/datasets/toy_dataset.html#breast-cancer-dataset)"
   ]
  },
  {
   "cell_type": "code",
   "execution_count": null,
   "id": "3b2acccc-f146-43e8-a6b2-331a627d0df1",
   "metadata": {},
   "outputs": [],
   "source": []
  },
  {
   "cell_type": "code",
   "execution_count": null,
   "id": "ac5e8f47-3cf5-45b6-8921-d75695aa6665",
   "metadata": {},
   "outputs": [],
   "source": []
  },
  {
   "cell_type": "markdown",
   "id": "c31dd3c5-7554-4c17-83c1-b6074c2216c3",
   "metadata": {},
   "source": [
    "## Zadanie 8\n",
    "\n",
    "W jaki sposób należy wykonać normalizację takich danych? Napisz metodę która na to pozwoli.\n"
   ]
  },
  {
   "cell_type": "code",
   "execution_count": null,
   "id": "439ed5d3-c22d-4353-b1c2-0c217c5270b9",
   "metadata": {},
   "outputs": [],
   "source": []
  },
  {
   "cell_type": "markdown",
   "id": "f9467793-4ad8-4895-88e2-f0a02cd7d956",
   "metadata": {},
   "source": [
    "## Zadanie 9\n",
    "Przygotuj etykiety danych w kodowaniu one-hot. "
   ]
  },
  {
   "cell_type": "code",
   "execution_count": null,
   "id": "d549c646-cb17-4172-bd36-2d7f67fb42d5",
   "metadata": {},
   "outputs": [],
   "source": []
  },
  {
   "cell_type": "markdown",
   "id": "c2d00847-0143-4cca-a7d2-afec2814c711",
   "metadata": {},
   "source": [
    "## Zadanie 10\n",
    "\n",
    "Zapoznaj się z działaniem funkcji aktywacji `ReLU`. Spróbuj napisać własną wersję. Przetestuj na wygnerowanym wektorze danych za pomocą np. `numpy.random.rand()`"
   ]
  },
  {
   "cell_type": "code",
   "execution_count": null,
   "id": "038c7b97-8277-45db-b9b6-469ef21160e4",
   "metadata": {},
   "outputs": [],
   "source": []
  },
  {
   "cell_type": "code",
   "execution_count": null,
   "id": "bed21a9d-ce06-4f95-b24c-924fd08f3661",
   "metadata": {},
   "outputs": [],
   "source": []
  }
 ],
 "metadata": {
  "kernelspec": {
   "display_name": "Python 3",
   "language": "python",
   "name": "python3"
  },
  "language_info": {
   "codemirror_mode": {
    "name": "ipython",
    "version": 3
   },
   "file_extension": ".py",
   "mimetype": "text/x-python",
   "name": "python",
   "nbconvert_exporter": "python",
   "pygments_lexer": "ipython3",
   "version": "3.8.5"
  }
 },
 "nbformat": 4,
 "nbformat_minor": 5
}
