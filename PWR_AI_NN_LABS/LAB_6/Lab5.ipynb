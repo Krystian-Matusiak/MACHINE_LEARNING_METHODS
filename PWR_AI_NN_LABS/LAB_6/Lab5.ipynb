{
 "cells": [
  {
   "cell_type": "markdown",
   "id": "b571ec1c-d8ec-40ac-ab73-b451d533cbcb",
   "metadata": {},
   "source": [
    "# Sieci neuronowe 1 - LAB\n",
    "\n",
    "    prowadzący: Monika Wasilewska\n",
    "    Politechnika Wrocławska, Katedra Akustyki, Multimediów i Przetwarzania Sygnałów\n",
    "    \n",
    "\n",
    "Run a cell via `Shift + Return`. Learn more about [CoCalc Jupyter Notebooks](https://doc.cocalc.com/jupyter.html)."
   ]
  },
  {
   "cell_type": "markdown",
   "id": "6008bdc0-aab5-4a5b-8e66-59ee614d179f",
   "metadata": {},
   "source": [
    "---\n",
    "Plan zajęć:\n",
    "---\n",
    "1. Zapoznanie się z pojęciem sieci typu \"koder - dekoder\"\n",
    "2. Przetrenowanie poznanego pojęcia na gotowym przykładzie.\n",
    "3. Stworzenie sieci typu enkoder-dekoder dla MNIST-10\n",
    "3. Stworzenie sieci odszumiającej dla MNIST-10\n",
    "---\n",
    "\n",
    "Dzisiejsze zajęcia to już trochę bardziej zaawansowane sieci, które można wykorzystać do wielu celów. Sieci typu koder-dekoder mogą być zbudowane \"w środku\" zarówno z warstw LP jak również warstw konwolucyjnych. Najważniejszym jest zrozumienie idei jak ta sieć działa. \n",
    "\n",
    "Nie jestem tylko pewna ile było już na ten temat na wykładzie. W razie potrzeby na kolejnych zajęciach jeszcze raz wyjaśniemy sobie ideę poznawanego właśnie przez Was mechanizmu. **Miłej nauki i... zabawy!**\n",
    "\n",
    "---"
   ]
  },
  {
   "cell_type": "code",
   "execution_count": 2,
   "id": "157497e8-d2de-4055-8058-bdfdc800ec87",
   "metadata": {},
   "outputs": [],
   "source": [
    "import numpy as np\n",
    "import tensorflow as tf\n",
    "\n",
    "from tensorflow.keras import datasets, layers, models\n",
    "import matplotlib.pyplot as plt"
   ]
  },
  {
   "cell_type": "code",
   "execution_count": null,
   "id": "70677b04-8d03-491a-8ab8-5b8524fa58fb",
   "metadata": {},
   "outputs": [],
   "source": []
  },
  {
   "cell_type": "markdown",
   "id": "01465c61-087d-4a24-8850-3621a9e37eba",
   "metadata": {},
   "source": [
    "# Zadanie 1\n",
    "Zapoznaj się z dwoma pierwszymi przykładami z [tutoriala TensorFlow](https://www.tensorflow.org/tutorials/generative/autoencoder ) dotyczącego właśnie autenkoderów. Autoenkodery są to sieci potrafiące odtworzyć podane wejście z zakodowanych cech na wyjściu sieci. Oznacza to, że skaładają się z dwóch powiązanych ze sobą części:\n",
    "- kodera\n",
    "- dekodera.\n",
    "\n",
    "Pierwsza z nich pozwala nasz oryginalny obrazek zmniejszyć do pewnego wektora cech z którego dekoder nauczy się odtwarzać obrazek. Z racji że nie mamy teraz do czynienia z klasyfikacją zmieni się np. wykorzystywana funkcja błędu, czy dane które będziemy przekazywać w procesie uczenia.\n",
    "**Przeanalizuj DWA pierwsze przykłady. Trzecim zajmiemy się na kolejnych zajęciach.** \n",
    "\n",
    "UWAGA: Ze strony można ściągnąć notebooka, aby przetestować u siebie zmianę parametrów sieci do czego gorąco zachęcam! (Przy czym notebbok będzie w j. angielskim, tutorial jest całkiem nieźle napisany również po polsku)"
   ]
  },
  {
   "cell_type": "code",
   "execution_count": null,
   "id": "ae102d9a-d6d9-47fe-bde3-5db74325219c",
   "metadata": {},
   "outputs": [],
   "source": []
  },
  {
   "cell_type": "markdown",
   "id": "16991e15-7e46-4b8e-9f9d-66ecc8a16afe",
   "metadata": {},
   "source": [
    "# Zadanie 2\n",
    "Stwórz autoenkoder dla bazy `CIFAR-10`. Wyrysuj otrzymane wyjście względem wejścia i porównaj rysunki (zastanów się które warto obejrzeć). **Możesz skorzystać z architektury podobnej do tej, którą wykorzystałeś na poprzednich zajęciach (prawie że skopiować klasyfikator jako koder i dopisać tylko dekoder).** Zmień parametry sieci (liczbę warstw, neuronów...) i zaobserwuj różnice. Zaprojektowaną Przez Ciebie sieć wykorzystamy na kolejnych zajęciach.\n",
    "\n",
    "UWAGA: Jeśli czas uczenia sieci jest bardzo długi ze względu na liczbę klas i przykładów możecie ograniczyć swoją bazę wybierając 3-4 klasy. "
   ]
  },
  {
   "cell_type": "code",
   "execution_count": null,
   "id": "16f23a53-4997-49de-8d77-d201d833d186",
   "metadata": {},
   "outputs": [],
   "source": [
    "\n",
    "\n",
    "\n",
    "\n",
    "\n"
   ]
  },
  {
   "cell_type": "markdown",
   "id": "b70a8758-3b5c-4551-8d2a-a594d8878d5e",
   "metadata": {},
   "source": [
    "# Zadanie 3\n",
    "Zapisz model, tak aby można było później z niego skorzystać. Jak to zrobić znajdziesz tutaj: [CLICK!](https://keras.io/api/models/model_saving_apis/). "
   ]
  },
  {
   "cell_type": "code",
   "execution_count": null,
   "id": "4a20e546-9fa2-4999-8347-5d3c264b67d5",
   "metadata": {},
   "outputs": [],
   "source": [
    "\n",
    "\n",
    "\n"
   ]
  },
  {
   "cell_type": "markdown",
   "id": "77bfb94f-c5cf-4245-887b-4f1cdc79946a",
   "metadata": {},
   "source": [
    "# Zadanie 4\n",
    "Wczytaj zapisany przed momentem model do nowej zmiennej (np. `loaded_model`) i doucz go jeszcze na kilku epokach. Od jakiej wartości błędu startujemy?"
   ]
  },
  {
   "cell_type": "code",
   "execution_count": null,
   "id": "506a39d9-fee3-41fa-ae92-1873b43e24cf",
   "metadata": {},
   "outputs": [],
   "source": [
    "\n",
    "\n",
    "\n"
   ]
  },
  {
   "cell_type": "markdown",
   "id": "37f180ac-45f2-4e8d-902b-6ff0cb80cae9",
   "metadata": {},
   "source": [
    "# Zadanie 5\n",
    "Stwórz autoenkoder służący do odszumiania obrazków dla bazy `CIFAR-10`. Wyrysuj otrzymane wyjście względem wejścia i porównaj rysunki (zastanów się które warto obejrzeć?).\n",
    "\n",
    "UWAGA: Jeśli czas uczenia sieci jest bardzo długi ze względu na liczbę klas i przykładów możecie ograniczyć swoją bazę wybierając 3-4 klasy. "
   ]
  },
  {
   "cell_type": "markdown",
   "id": "9f5b49c6-c09c-4206-a0ad-ef9911ff1178",
   "metadata": {},
   "source": [
    "\n",
    "\n",
    "\n",
    "\n",
    "\n",
    "\n"
   ]
  },
  {
   "cell_type": "markdown",
   "id": "075c0f9f-7576-459f-a7c3-eb1ce9a05024",
   "metadata": {},
   "source": [
    "---"
   ]
  },
  {
   "cell_type": "markdown",
   "id": "0d278a5b-6e36-42bf-a45c-807610f36816",
   "metadata": {},
   "source": [
    "## Cieakwostka:\n",
    "Przypuszczam, że niebawem rozpoczniemy etap kiedy zastanawiać się będziecie jak nie pogubić się w tym, który model do czego służył i który powinniście:\n",
    "- wziąć do tego, aby go douczyć, \n",
    "- który był najbardziej stabliny\n",
    "- który działał lepiej ale był bardzo eksperymentalny itd...\n",
    "\n",
    "Z gita więkoszość z Was korzysta pewnie już od 1. roku studiów, niczym dziwnym będzie zatem jak przedstwię rozbudowany system kontroli wersji dla projektów siecioneuronowych. System nazywa się DVC i więcej poczytać można o nim tutaj: [DVC info](https://dvc.org/doc/use-cases). Korzystać będziemy z tego w przyszłym semestrze :)\n",
    "\n",
    "Miłej lektury!"
   ]
  },
  {
   "cell_type": "code",
   "execution_count": null,
   "id": "f5597859-d985-4f24-b688-ad59a5ea5b81",
   "metadata": {},
   "outputs": [],
   "source": []
  }
 ],
 "metadata": {
  "kernelspec": {
   "display_name": "Python 3",
   "language": "python",
   "name": "python3"
  },
  "language_info": {
   "codemirror_mode": {
    "name": "ipython",
    "version": 3
   },
   "file_extension": ".py",
   "mimetype": "text/x-python",
   "name": "python",
   "nbconvert_exporter": "python",
   "pygments_lexer": "ipython3",
   "version": "3.8.12"
  }
 },
 "nbformat": 4,
 "nbformat_minor": 5
}
