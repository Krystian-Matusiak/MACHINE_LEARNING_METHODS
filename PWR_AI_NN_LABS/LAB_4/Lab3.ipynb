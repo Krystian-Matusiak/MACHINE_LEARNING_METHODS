{
 "cells": [
  {
   "cell_type": "markdown",
   "id": "b571ec1c-d8ec-40ac-ab73-b451d533cbcb",
   "metadata": {},
   "source": [
    "# Sieci neuronowe 1 - LAB\n",
    "\n",
    "    prowadzący: Monika Wasilewska\n",
    "    Politechnika Wrocławska, Katedra Akustyki, Multimediów i Przetwarzania Sygnałów\n",
    "    \n",
    "\n",
    "Run a cell via `Shift + Return`. Learn more about [CoCalc Jupyter Notebooks](https://doc.cocalc.com/jupyter.html)."
   ]
  },
  {
   "cell_type": "markdown",
   "id": "6008bdc0-aab5-4a5b-8e66-59ee614d179f",
   "metadata": {},
   "source": [
    "---\n",
    "Plan zajęć:\n",
    "---\n",
    "1. Warstwy w sieciach neuronowych.\n",
    "2. Budowa modelu\n",
    "3. Podział danych na treningowe i testowe.\n",
    "3. Ocena modelu\n",
    "---"
   ]
  },
  {
   "cell_type": "code",
   "execution_count": 1,
   "id": "157497e8-d2de-4055-8058-bdfdc800ec87",
   "metadata": {},
   "outputs": [],
   "source": [
    "import numpy as np"
   ]
  },
  {
   "cell_type": "markdown",
   "id": "01465c61-087d-4a24-8850-3621a9e37eba",
   "metadata": {},
   "source": [
    "# Zadanie 1\n",
    "Z `sklearn.datasets` wykorzystaj `load_breast_cancer()` do załadowania bazy danych. Przygotuj dwie wersje bazy - oryginalnie wczytaną oraz znormalizowaną. \n",
    "\n",
    "[opis bazy - click!](https://scikit-learn.org/stable/datasets/toy_dataset.html#breast-cancer-dataset)"
   ]
  },
  {
   "cell_type": "code",
   "execution_count": 1,
   "id": "8cce24ac-8f34-45e3-8b7a-d9ad66ce448f",
   "metadata": {},
   "outputs": [],
   "source": []
  },
  {
   "cell_type": "code",
   "execution_count": null,
   "id": "ae102d9a-d6d9-47fe-bde3-5db74325219c",
   "metadata": {},
   "outputs": [],
   "source": []
  },
  {
   "cell_type": "markdown",
   "id": "16991e15-7e46-4b8e-9f9d-66ecc8a16afe",
   "metadata": {},
   "source": [
    "# Zadanie 2\n",
    "Zapoznaj się z informacjami na temat pakietu Keras, a dokładniej na temat elementów które będziemy wykorzystywać na dzisiejszych zajęciach `tensorflow.keras.models.Sequential`, `tensorflow.keras.layers.Dense`, `tensorflow.keras.layers.Activation`, `tensorflow.keras.layers.Dropout`, `tensorflow.keras.utils.to_catgorical`\n",
    "\n",
    "Uzuepłnij tekst poniżej oraz zaimportuj wyżej wymienione metody do swojego JupyterNotebook'a."
   ]
  },
  {
   "cell_type": "code",
   "execution_count": 3,
   "id": "dc33bb14-ce37-40dc-bd43-1bc37dde2e82",
   "metadata": {},
   "outputs": [],
   "source": [
    "# Tutaj zaimportuj pakiety\n",
    "\n",
    "\n"
   ]
  },
  {
   "cell_type": "markdown",
   "id": "614bb592-f041-44fe-968b-642f15176f16",
   "metadata": {},
   "source": [
    "**Uzupełnij:** \n",
    "- `Dense` służy do ...., jest to warstwa, która będzie uczona/nie będzie uczona. Jej wartości będą/nie będą się zmieniać\n",
    "- `Activation` służy do ...., jest to warstwa, która będzie uczona/nie będzie uczona. \n",
    "- ..."
   ]
  },
  {
   "cell_type": "markdown",
   "id": "37f180ac-45f2-4e8d-902b-6ff0cb80cae9",
   "metadata": {},
   "source": [
    "# Zadanie 3\n",
    "Stwórzmy model sieci za pomocą zaimportowanego wcześniej `tensorflow.keras.models.Sequential`."
   ]
  },
  {
   "cell_type": "code",
   "execution_count": null,
   "id": "93ec3eb8-8526-459b-ac98-6dcad1a961c3",
   "metadata": {},
   "outputs": [],
   "source": [
    "model = ..."
   ]
  },
  {
   "cell_type": "markdown",
   "id": "077e6bbc-ed20-4a00-ab03-9dc4e0161220",
   "metadata": {},
   "source": [
    "# Zadanie 4\n",
    "Dodajmy warstwy do naszej sieci za pomocą `.add`. Dla pierwszej warstwy musimy określić `input_dim`, który będzie równy długości wektora cech przekazywanych na wejście naszej sieci.\n",
    "\n",
    "Pierwsza warstwa niech będzie miała 20 neuronów, druga 10, oraz trzecia N neuronów. Ustal ile neuronów powinna mieć ostatnia warstwa na podstawie liczby klas analizowanego zbioru danych. Po pierwszej oraz drugiej z warstw neuronowych dodajmy \"warstwę nieuczącą się\" będącą funkcją aktywacji ReLU, oraz warstwę `Dropout` pozwalającą na regularyzację naszego modelu."
   ]
  },
  {
   "cell_type": "code",
   "execution_count": null,
   "id": "c7c0f07a-9c50-48bf-96bf-cb6a8e8329ee",
   "metadata": {},
   "outputs": [],
   "source": [
    "model.add(...)"
   ]
  },
  {
   "cell_type": "markdown",
   "id": "3cdd3134-93eb-4efc-abcd-0099eec3ba67",
   "metadata": {},
   "source": []
  },
  {
   "cell_type": "markdown",
   "id": "c685c3d6-0538-41e2-8312-04b34e81da62",
   "metadata": {},
   "source": [
    "# Zadanie 5\n",
    "\n",
    "Przeczytaj na czym polega metoda `softmax`. Dodaj ją w odpowienim miejscu do modelu."
   ]
  },
  {
   "cell_type": "code",
   "execution_count": null,
   "id": "b757cdb5-c35f-4b8b-a618-b7c8bb7c3166",
   "metadata": {},
   "outputs": [],
   "source": []
  },
  {
   "cell_type": "markdown",
   "id": "9f5b49c6-c09c-4206-a0ad-ef9911ff1178",
   "metadata": {},
   "source": [
    "**Uzupełnij** `softmax` służy do ...., wykorzystywać będziemy go  (W KTÓRYM MIEJSCU MODELU)"
   ]
  },
  {
   "cell_type": "markdown",
   "id": "52018d81-e106-4ecb-8d98-b2064ac6648f",
   "metadata": {},
   "source": [
    "---"
   ]
  },
  {
   "cell_type": "markdown",
   "id": "73164c03-1792-4e4d-a04a-842e852e2dfd",
   "metadata": {},
   "source": [
    "# Zadanie 6\n",
    "\n",
    "Zbudujmy model (`.compile`), a następnie wyświetlmy o nim informacje (`.summary`)."
   ]
  },
  {
   "cell_type": "code",
   "execution_count": null,
   "id": "3b2acccc-f146-43e8-a6b2-331a627d0df1",
   "metadata": {},
   "outputs": [],
   "source": [
    "model.compile(loss='categorical_crossentropy', optimizer='adam', metrics=['accuracy'])\n",
    "# tutaj wyświetl informacje o modelu\n"
   ]
  },
  {
   "cell_type": "markdown",
   "id": "c31dd3c5-7554-4c17-83c1-b6074c2216c3",
   "metadata": {},
   "source": [
    "## Zadanie 7\n",
    "\n",
    "Zamknijmy tworzenie pełnego modelu wewnątrz funkcji `get_mlp_model(n_class)`, gdzie `n_class` będzie oznaczało liczbę klas, które chcemy rozpoznawać. Funkcja ma zwracać stworzony model.\n"
   ]
  },
  {
   "cell_type": "code",
   "execution_count": null,
   "id": "439ed5d3-c22d-4353-b1c2-0c217c5270b9",
   "metadata": {},
   "outputs": [],
   "source": []
  },
  {
   "cell_type": "markdown",
   "id": "f9467793-4ad8-4895-88e2-f0a02cd7d956",
   "metadata": {},
   "source": [
    "# Zadanie 8\n",
    "Wykorzystując `tensorflow.keras.utils.to_catgorical` stwórz etykiety i zapisz w zmiennej, które będą zapisane jako 'one-hot'."
   ]
  },
  {
   "cell_type": "code",
   "execution_count": null,
   "id": "d549c646-cb17-4172-bd36-2d7f67fb42d5",
   "metadata": {},
   "outputs": [],
   "source": []
  },
  {
   "cell_type": "markdown",
   "id": "c2d00847-0143-4cca-a7d2-afec2814c711",
   "metadata": {},
   "source": [
    "# Zadanie 9\n",
    "Zapoznaj się z działaniem metody `fit` dla stworzonego modelu. Jakie przyjmuje argumenty i co oznaczają?\n",
    "Spróbuj nauczyć model z wykorzystaniem wyżej wymienionej metody oraz nieznormalizowanych danych - minibatch niech będzie wielkości 16, podział zbioru treningowego/testowego niech wynosi 8:2, liczba epok niech będzie równa 15. \n"
   ]
  },
  {
   "cell_type": "code",
   "execution_count": null,
   "id": "038c7b97-8277-45db-b9b6-469ef21160e4",
   "metadata": {},
   "outputs": [],
   "source": []
  },
  {
   "cell_type": "markdown",
   "id": "95ad741c-2993-48a6-8600-0b3960c8e4fa",
   "metadata": {},
   "source": [
    "# Zadanie 10\n",
    "Zapoznaj się z działaniem metody `fit` dla stworzonego modelu. Jakie przyjmuje argumenty i co oznaczają?\n",
    "Spróbuj nauczyć model z wykorzystaniem wyżej wymienionej metody oraz znormalizowanych danych. Pozostałe parametry pozostają bez zmian - minibatch niech będzie wielkości 16, podział zbioru treningowego/testowego niech wynosi 8:2, liczba epok niech będzie równa 15. "
   ]
  },
  {
   "cell_type": "code",
   "execution_count": null,
   "id": "4d8f3816-f6c7-4c7f-94f2-f1bef828fa0c",
   "metadata": {},
   "outputs": [],
   "source": []
  },
  {
   "cell_type": "markdown",
   "id": "7ecce452-023c-48e1-a285-30032fa4a1bc",
   "metadata": {},
   "source": [
    "# Zadanie 11\n",
    "\n",
    "Czy normalizacja wpływa na proces uczenia modelu? Spróbuj zmienić liczbę neuronów w sieci i sprawdź jakie różnice otrzymamy. Czy zawsze ma sens zwiększanie liczby wag do bardzo dużych wartości?\n",
    "\n",
    "\n"
   ]
  },
  {
   "cell_type": "markdown",
   "id": "04895cb1-6d89-4aeb-9c00-2d5cb9ce042b",
   "metadata": {},
   "source": [
    "**ODP:**\n",
    "\n"
   ]
  },
  {
   "cell_type": "markdown",
   "id": "075c0f9f-7576-459f-a7c3-eb1ce9a05024",
   "metadata": {},
   "source": [
    "---"
   ]
  }
 ],
 "metadata": {
  "kernelspec": {
   "display_name": "Python 3",
   "language": "python",
   "name": "python3"
  },
  "language_info": {
   "codemirror_mode": {
    "name": "ipython",
    "version": 3
   },
   "file_extension": ".py",
   "mimetype": "text/x-python",
   "name": "python",
   "nbconvert_exporter": "python",
   "pygments_lexer": "ipython3",
   "version": "3.8.12"
  }
 },
 "nbformat": 4,
 "nbformat_minor": 5
}
