{
 "cells": [
  {
   "cell_type": "markdown",
   "id": "8c30fb3f-1ccb-4ecb-b7f3-87bd80e80a91",
   "metadata": {},
   "source": [
    "# Technologie informacyjne - LAB\n",
    "\n",
    "    prowadzący: Monika Wasilewska\n",
    "    Politechnika Wrocławska, Katedra Akustyki, Multimediów i Przetwarzania Sygnałów\n",
    "    \n",
    "\n",
    "Run a cell via `Shift + Return`. Learn more about [CoCalc Jupyter Notebooks](https://doc.cocalc.com/jupyter.html)."
   ]
  },
  {
   "cell_type": "markdown",
   "id": "dee25ce5-a785-42f4-be6d-9c7e526b3063",
   "metadata": {},
   "source": [
    "## Zajęcia 1\n",
    "\n",
    "1. Zasady BHP\n",
    "2. Czym będziemy zajmować się na przedmiocie\n",
    "3. Warunki zaliczenia\n",
    "4. Pierwsze kroki z Jupyter Notebooks\n",
    "\n",
    "Co przygotować w domu na następne zajęcia?\n",
    "\n",
    "1. Dokończyć Notebooka i mieć opanowane zadania z zajęć.\n",
    "\n",
    "___"
   ]
  },
  {
   "cell_type": "markdown",
   "id": "bf29bc4a-379e-4ef1-8d2b-2bd957313e92",
   "metadata": {},
   "source": [
    "## Dodawnia komórek w Notebooku"
   ]
  },
  {
   "cell_type": "markdown",
   "id": "00db317d-4d22-4bc5-82b5-ca592c3c820a",
   "metadata": {},
   "source": [
    "Na zajęciach będziemy korzystali z wielu narzędzi, a jednym z nich będzie `Jupyter Notebooks`. Nasze Notebooki pozwalają gromadzić w jednym miejscu notatki oraz kod pisany w jednym z języków programowania. Wobec tego mamy możliwość dodawania kolejnych komórek w których wpisywać będziemy dane. Aby zaznaczyć komórkę poniżej której chcemy dodać nowe miejsce na dane klikamy na nią myszką. Jeśli komórka jest \"aktualnie zaznaczona\" pojawi się obok niej kolorowa pionowa linia tak jak na obrazku poniżej. \n",
    "\n"
   ]
  },
  {
   "cell_type": "markdown",
   "id": "6084207e-d24b-4470-b437-53db8819bbc6",
   "metadata": {},
   "source": [
    "![alt text](aktywna_kom.jpg \"aktywna_komorka\")"
   ]
  },
  {
   "cell_type": "markdown",
   "id": "e46a8278-12f1-4acb-9adf-9e25ac765e1f",
   "metadata": {},
   "source": [
    "Aby **stworzyć nową komórkę poniżej aktualnie aktywnej wybieramy ikonę `+`** z paska u góry naszego dokumentu.\n",
    "\n",
    "![alt text](dodawanie_kom.png \"dodawnie_komorki\")\n",
    "\n"
   ]
  },
  {
   "cell_type": "markdown",
   "id": "acbf1461-e0e8-44ae-9ac6-485a72594f95",
   "metadata": {},
   "source": [
    "## Formatowanie tekstu"
   ]
  },
  {
   "cell_type": "markdown",
   "id": "707a5513-d57e-48aa-a058-fe8dcac831cf",
   "metadata": {},
   "source": [
    "Aby w **komórce wpisywać odpowiedzi na pytania (ogólniej mówiąc notatki) zmieniamy typ pola na `Markdown`**. Ten typ pozwoli nam na formatowanie tekstu -  np. dodanie pogrubienia, kursywy czy stworzenia listy punktów.\n",
    "\n",
    "![alt text](zmiana_typu.png \"zmiana_typu_komorki\")"
   ]
  },
  {
   "cell_type": "markdown",
   "id": "ac5eb7aa-4a6b-4208-9583-646685b4a21b",
   "metadata": {},
   "source": [
    "### Zadanie 1\n",
    "\n",
    "Stwórz komórkę poniżej tej w której jest treść aktualnego zadania. Zmień jej typ na `Markdown` i wpisz formułę:\n",
    "\n",
    "`Mam na imię *Twoje Imię*, a mój **twój numer indeksu** to: ```numer indesku``` `\n",
    "\n",
    "Po wpisaniu formły wciśnij jednocześnie `shift` oraz `enter`, aby uruchomich komórkę.\n"
   ]
  },
  {
   "cell_type": "markdown",
   "id": "e0a8ac06",
   "metadata": {},
   "source": [
    "Mam na imię Krystian, a mój numer indeksu to: `249460`"
   ]
  },
  {
   "cell_type": "markdown",
   "id": "3b18ac49-d1f0-4bea-badf-0ae43fc32d17",
   "metadata": {
    "tags": []
   },
   "source": [
    "### Zadanie 2\n",
    "\n",
    "*Komórkę na odpowiedzi dodaj klikając na wyskości zadania 2 na pole pomiędzy kolorową linią a początkiem komórki (tak jak na rysunku 1.). Następnie naciśnij literę **B** z klawiatury.*\n",
    "\n",
    "1. Co się stanie jeśli tekst umieścimy pomiędzy znakami `*`?\n",
    "2. Jaki wynik uzyskamy stosując dwa takie symbole (`**`) na początku i końcu wyrażenia?\n",
    "3. Co spowoduje umieszczenie tekstu pomiędzy znakami ` ``` ` ?"
   ]
  },
  {
   "cell_type": "markdown",
   "id": "4a466232",
   "metadata": {},
   "source": [
    "1. Pomiędzy tymi znakami otrzymamy *tego typu* tekst czyli pochylony.\n",
    "2. Natomiast przy dwóch takich znakach otrzymamy **pogrubiony**.\n",
    "3. Tekst ```tego typu``` będzie wyodrębniony."
   ]
  },
  {
   "cell_type": "markdown",
   "id": "0a946c0e-80ed-4d28-883f-d6f21a342f0f",
   "metadata": {},
   "source": [
    "---"
   ]
  },
  {
   "cell_type": "markdown",
   "id": "843bb0e1-7d4c-4b26-a9a9-f667c99ec096",
   "metadata": {},
   "source": [
    "## Nagłówki w Markdown\n",
    "Aby utworzyć nagłówek w `Markdown`, poprzedź go znakiem krzyżyka (#). Umieszczasz taką samą liczbę krzyżyków, jak rozmiar nagłówka, który chcesz wykorzystać. Na przykład dla nagłówka najwyższego poziomu użyjesz jednego znaku krzyża - `# Pierwszy poziom nagłówków`, analogicznie dla nagłówka trzeciego poziomu należy użyć trzech znaków - `### Wybrane aspekty niektórych zagadnień`.\n"
   ]
  },
  {
   "cell_type": "markdown",
   "id": "ee4c8d99-9174-465d-babb-d82315a9fbfc",
   "metadata": {},
   "source": [
    "### Zadanie 3 \n",
    "Stwórz nową komórkę na odpowiedź, poniżej tej w której znajduje się treść aktualnego zadania. Stwórz pięć poziomów nagłówków (każdy z nich musi być zatytułowany). Uruchom komórkę, aby zobaczyć efekt naszej pracy."
   ]
  },
  {
   "cell_type": "markdown",
   "id": "115dae1a",
   "metadata": {},
   "source": [
    "# Pierwszy poziom\n",
    "## Drugi poziom\n",
    "### Trzeci poziom\n",
    "#### Czwarty poziom\n",
    "##### Piąty poziom\n",
    "###### Szósty też istnieje"
   ]
  },
  {
   "cell_type": "markdown",
   "id": "f917e6ae-64bd-4d07-b6f2-57d5f4c84ed1",
   "metadata": {},
   "source": [
    "---"
   ]
  },
  {
   "cell_type": "markdown",
   "id": "1c2cd454-31fc-4be3-ac62-ecee527541b9",
   "metadata": {},
   "source": [
    "## Edytowanie istniejących komórek \n",
    "\n",
    "Jak pewnie część z Was się przekonała, aby wejść do trybu edycji komórki typu `Markdown` należy dwukrotnie kliknąć na nią myszką. Aby uruchomić komórkę i przejść do kolejnej należy wcisnąć jednocześnie `shift` oraz `enter`.  "
   ]
  },
  {
   "cell_type": "markdown",
   "id": "79702db9-77b2-4482-b3ef-765863767bea",
   "metadata": {},
   "source": [
    "### Zadanie 4\n",
    "\n",
    "W komórce poniżej zmień zdanie aby było poprawne, a następnie uruchom komórkę i przedź dalej."
   ]
  },
  {
   "cell_type": "markdown",
   "id": "35782088-fa9a-4bed-9d1f-7b066c07d5aa",
   "metadata": {},
   "source": [
    "**Każda zmiana energii kinetycznej ciała Ek jest równoważona przez zmianę energii potencjalnej Ep, tak że ich suma pozostaje przez cały czas stała**"
   ]
  },
  {
   "cell_type": "markdown",
   "id": "4448a29b-c18a-41b2-b36d-636396794fab",
   "metadata": {},
   "source": [
    "---"
   ]
  },
  {
   "cell_type": "markdown",
   "id": "6cac26cc-988c-4e50-bd0f-45d7fe3c671f",
   "metadata": {},
   "source": [
    "## Dołączanie linków (hiperłącza)\n",
    "Aby utworzyć łącze należy umieścić tekst, który będzie wyświetlany w nawiasach kwadratowych `[tutaj umieszaczmy tekst, który będzie wyświetalny]`, a samo łącze umieścić w nawiasach okrągłych (`tutaj wpisujemy adres łącza`)"
   ]
  },
  {
   "cell_type": "markdown",
   "id": "7a87516a-0a99-4386-b2c9-9c6994515bfa",
   "metadata": {},
   "source": [
    "### Zadanie 5\n",
    "W przygotowanej komórce poniżej stwórz hiperłącze do eportalu Pwr. Tekst, który ma się wyświetlać niech brzmi \"To strona na którą będę się logować na każdych zajęciach\", a adres strony to: https://eportal.pwr.edu.pl/  "
   ]
  },
  {
   "cell_type": "markdown",
   "id": "e87c3048-0885-4ef4-a988-fe83dc29a3aa",
   "metadata": {},
   "source": [
    "tutaj jest miejsce na odpowiedź:\n",
    "[\"To strona na którą będę się logować na każdych zajęciach\"](https://eportal.pwr.edu.pl/)\n",
    "\n",
    "\n",
    "\n"
   ]
  },
  {
   "cell_type": "markdown",
   "id": "58e0a968-c297-4112-baa5-21aff147b40e",
   "metadata": {},
   "source": [
    "## Nie tylko Markdown, ale też kod!\n",
    "\n",
    "Tak jak zostało wspomniane wcześniej istnieją komórki o różnym przeznaczeniu. Oprócz tych które służą do zapisu notatek są również takie (a raczej przede wszystkim takie), które pozwalają nam na programowanie. Wybierając typ komórki jako `Code` możemy uruchomić fragment napisanego przez nas kodu. Na naszych zajęciach korzystać będziemy z języka Python. Kolejne zadania mają na celu pokazanie możliwości wykonywania obliczeń - samym programowaniem w tym języku będziemy zajmować się na niejednych zająciach w tym semestrze."
   ]
  },
  {
   "cell_type": "markdown",
   "id": "e8ff14f9-01a1-4150-a1ca-0294f68f3b73",
   "metadata": {},
   "source": [
    "### Zadanie 6\n",
    "\n",
    "Stwórz poniżej dwie komórki - pierwsza niech będzie typu `Markdown`, druga `Code`. W obu wpisz to samo wyrażenie: $$3+4*5$$ i uruchom każdą z nich. Porównaj otrzymane wyjścia."
   ]
  },
  {
   "cell_type": "markdown",
   "id": "9afb8422",
   "metadata": {},
   "source": [
    "3+4∗5"
   ]
  },
  {
   "cell_type": "code",
   "execution_count": 2,
   "id": "c13ede6c",
   "metadata": {},
   "outputs": [
    {
     "data": {
      "text/plain": [
       "23"
      ]
     },
     "execution_count": 2,
     "metadata": {},
     "output_type": "execute_result"
    }
   ],
   "source": [
    "3+4*5"
   ]
  },
  {
   "cell_type": "markdown",
   "id": "2f8f6bfb-73f4-4fa1-bec0-505bd738d494",
   "metadata": {},
   "source": [
    "### Zadanie 7\n",
    "\n",
    "Jak zauważyliście w przypadku komórki `Markdown` wyświetlił się napis, natomiast w przypadku komórki `Code` został zwrócony wynik zapisanego wyrażenia. Oznacza to, że nasz kod został zinterpretowany i uruchomiony, a w rezultacie zobaczyliśmy wynik.\n",
    "\n",
    "Przejdźmy w takim razie poziom wyżej i stwórzmy prosty kalkulator! **Przypisz wartości zmiennym w poniższej komórce, a następnie użyj tych zmiennych aby obliczyć ich sumę, różnicę, iloczyn oraz iloraz.** Komórka jest już wstępnie przygotowana, uzepłnij tylko brakujące dane. Nie zmieniaj formatowania!!"
   ]
  },
  {
   "cell_type": "code",
   "execution_count": 3,
   "id": "a3336d23-21c6-4cc3-9eae-f1709d6bc62b",
   "metadata": {},
   "outputs": [
    {
     "name": "stdout",
     "output_type": "stream",
     "text": [
      "Suma to 7, roznica to -1, iloczyn wynosi 12, iloraz jest rowny 0.75.\n"
     ]
    }
   ],
   "source": [
    "a = 3\n",
    "b = 4\n",
    "\n",
    "suma    = a+b\n",
    "roznica = a-b\n",
    "iloczyn = a*b\n",
    "iloraz  = a/b\n",
    "\n",
    "\n",
    "print(\"Suma to {}, roznica to {}, iloczyn wynosi {}, iloraz jest rowny {}.\".format(suma, roznica, iloczyn, iloraz))"
   ]
  },
  {
   "cell_type": "code",
   "execution_count": null,
   "id": "8b2ef1f6-2546-41b7-843e-9637059e4d8c",
   "metadata": {},
   "outputs": [],
   "source": []
  }
 ],
 "metadata": {
  "kernelspec": {
   "display_name": "Python 3 (ipykernel)",
   "language": "python",
   "name": "python3"
  },
  "language_info": {
   "codemirror_mode": {
    "name": "ipython",
    "version": 3
   },
   "file_extension": ".py",
   "mimetype": "text/x-python",
   "name": "python",
   "nbconvert_exporter": "python",
   "pygments_lexer": "ipython3",
   "version": "3.8.10"
  }
 },
 "nbformat": 4,
 "nbformat_minor": 5
}
